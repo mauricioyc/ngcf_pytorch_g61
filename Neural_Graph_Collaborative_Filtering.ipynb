{
  "nbformat": 4,
  "nbformat_minor": 0,
  "metadata": {
    "colab": {
      "name": "Neural_Graph_Collaborative_Filtering.ipynb",
      "provenance": [],
      "collapsed_sections": [],
      "toc_visible": true,
      "include_colab_link": true
    },
    "kernelspec": {
      "name": "python3",
      "display_name": "Python 3"
    },
    "accelerator": "GPU"
  },
  "cells": [
    {
      "cell_type": "markdown",
      "metadata": {
        "id": "view-in-github",
        "colab_type": "text"
      },
      "source": [
        "<a href=\"https://colab.research.google.com/github/mauricioyc/ngcf_pytorch_g61/blob/master/Neural_Graph_Collaborative_Filtering.ipynb\" target=\"_parent\"><img src=\"https://colab.research.google.com/assets/colab-badge.svg\" alt=\"Open In Colab\"/></a>"
      ]
    },
    {
      "cell_type": "code",
      "metadata": {
        "id": "-5CB-1PeJL0w",
        "colab": {
          "base_uri": "https://localhost:8080/"
        },
        "outputId": "ce43fdbb-158a-49a8-a61e-593ca54504c3"
      },
      "source": [
        "from google.colab import drive\n",
        "drive.mount('/content/drive')"
      ],
      "execution_count": 5,
      "outputs": [
        {
          "output_type": "stream",
          "text": [
            "Drive already mounted at /content/drive; to attempt to forcibly remount, call drive.mount(\"/content/drive\", force_remount=True).\n"
          ],
          "name": "stdout"
        }
      ]
    },
    {
      "cell_type": "code",
      "metadata": {
        "id": "fytE_q3eMIhR"
      },
      "source": [
        ""
      ],
      "execution_count": 3,
      "outputs": []
    },
    {
      "cell_type": "code",
      "metadata": {
        "id": "BwFpIZxgKeGN"
      },
      "source": [
        "import pandas as pd\r\n",
        "from time import time\r\n",
        "from datetime import datetime\r\n",
        "import torch\r\n",
        "import os\r\n",
        "import sys\r\n",
        "\r\n",
        "# drive path to the project\r\n",
        "source_path = \"drive/MyDrive/Machine Learning/git/ngcf_pytorch_g61\"\r\n",
        "sys.path.insert(0,source_path)\r\n",
        "\r\n",
        "# torch cuda initialization\r\n",
        "use_cuda = torch.cuda.is_available()\r\n",
        "device = torch.device(\"cuda\" if torch.cuda.is_available() else \"cpu\")\r\n",
        "torch.cuda.set_device(0)"
      ],
      "execution_count": 18,
      "outputs": []
    },
    {
      "cell_type": "markdown",
      "metadata": {
        "id": "qAkDidOXX_C2"
      },
      "source": [
        "# Introduction\r\n",
        "\r\n",
        "Neural Graph Collaborative Filtering (NGCF), created by [Wang et al.(2019)] (https://arxiv.org/abs/1905.08108), is a Deep Learning Recommendation algorithm with graph topology that creates user-item embeddings representation and interactions. In this article we will use [MovieLens: ML-100k dataset](https://grouplens.org/datasets/movielens/100k/) to explore [this](https://github.com/metahexane/ngcf_pytorch_g61) PyTorch implementation of the NGCF.\r\n",
        "\r\n",
        "\r\n",
        "\r\n"
      ]
    },
    {
      "cell_type": "markdown",
      "metadata": {
        "id": "lMiynDZ4elQI"
      },
      "source": [
        "# Background Information\r\n",
        "\r\n",
        "![imagem](https://drive.google.com/uc?export=view&id=1rAQFHvKvVieAI7pVmfYZPTrHuPxn16n2)"
      ]
    },
    {
      "cell_type": "markdown",
      "metadata": {
        "id": "HlycPzP6g8Xo"
      },
      "source": [
        "# NGCF\r\n",
        "\r\n",
        "In a traditional collaborative filtering algorithm for ML-100k, the user-item interaction can be represented by a sparse matrix $R_{n,m}$ of liked/watched movies, where $n$ is the number of users and $m$ the movies. This matrix can be factored into two feature matrices in the form\r\n",
        "$R_{n,m} = U_{n,f} \\times I_{f,m}$, where $f$ is the feature vector size as shown in the figure 2. We can call these factors **Embeddings**.\r\n",
        "\r\n",
        "<br>\r\n",
        "<center><img src=\"https://drive.google.com/uc?export=view&id=1uBb6pFf12tU6l29YPMBb_2YCX-T4SBbY\" height=\"300\"><figcaption>Figure 2: Matrix factorization of $R_{n,m} = U_{n,f} \\times I_{f,m}$.</figcaption></center>\r\n",
        "</br>\r\n",
        "\r\n",
        "In the NGCF, the user-item relationship can be interpreted as a bipartite graph, shown in figure 3, in which node $u_i$ and $i_i$ is a unique user and movie embedding, respectively, and the edge represents the movies each user has seen. The graph can be created from the sparce matrix $R_{n,m}$.\r\n",
        "\r\n",
        "<br>\r\n",
        "<center><img src=\"https://drive.google.com/uc?export=view&id=1GO5fqKaC_gRnijLjjff1nvtv4X--wMIw\"><figcaption>Figure 3: User-item bipartite graph.</figcaption></center>\r\n",
        "</br>\r\n",
        "\r\n",
        "In the paper, the NGCF propagates the messages from the user-item embeddings relationship over the the bipartate graph, being able to capture neighbors information depending on the connectivity order parameterized. For example, a 2nd-oder connectivity can capture the path $u1 \\leftarrow i2 \\leftarrow u2$ and a 3rd-order connectivity send information to $u1$ through the path $u1 \\leftarrow i2 \\leftarrow u2 \\leftarrow i3$, being able to capture the fact that user 1 might like movie 3."
      ]
    },
    {
      "cell_type": "markdown",
      "metadata": {
        "id": "tkgG9okp6qfR"
      },
      "source": [
        "## 2: NGCF Architecture and Message Propagation"
      ]
    },
    {
      "cell_type": "markdown",
      "metadata": {
        "id": "8RSi3k6e0C-K"
      },
      "source": [
        "## 2.1: Embedding Layer\r\n",
        "\r\n",
        "The initial user and item embeddings are concatenated in an embedding lookup table as shown in the equation below. This embedding table is initialized using the user and item embeddings with a xavier uniform and will be optimized in an end-to-end fashion by the network.\r\n",
        "\r\n",
        "<br>\r\n",
        "<center>$E = [user\\_embeddings \\space , \\space item\\_embeddings] = [e_{u_1},...,e_{u_n} \\space , \\space e_{i_1},...,e_{i_m}]$ </center>\r\n",
        "</br>\r\n",
        "\r\n",
        "```python\r\n",
        "# initialize weights\r\n",
        "def _init_weights(self):\r\n",
        "    print(\"Initializing weights...\")\r\n",
        "    weight_dict = nn.ParameterDict()\r\n",
        "\r\n",
        "    initializer = torch.nn.init.xavier_uniform_\r\n",
        "    \r\n",
        "    weight_dict['user_embedding'] = nn.Parameter(initializer(torch.empty(self.n_users, self.emb_dim).to(device)))\r\n",
        "    weight_dict['item_embedding'] = nn.Parameter(initializer(torch.empty(self.n_items, self.emb_dim).to(device)))\r\n",
        "\r\n",
        "# ...\r\n",
        "\r\n",
        "# creating E\r\n",
        "def forward(self, u, i, j):\r\n",
        "  ego_embeddings = torch.cat([self.weight_dict['user_embedding'], self.weight_dict['item_embedding']], 0)\r\n",
        "```"
      ]
    },
    {
      "cell_type": "markdown",
      "metadata": {
        "id": "xsGlfgGa6M5h"
      },
      "source": [
        "## 2.2: Embedding Propagation Layers\r\n",
        "\r\n",
        "Message Aggregation\r\n",
        "\r\n",
        "$e^{(l)}_{u} = \\text{LeakyReLU}(m^{(l)}_{u \\space \\leftarrow \\space u} + \\sum_{i \\space \\in \\space \\mathcal{N}_u} m^{(l)}_{u \\space \\leftarrow \\space i})$\r\n",
        "\r\n",
        "<br>\r\n",
        "Message definition:\r\n",
        "\r\n",
        "$\\begin{equation}\r\n",
        "  \\begin{cases}\r\n",
        "      m^{(l)}_{u \\space \\leftarrow \\space i}  = \\frac{1}{\\sqrt{|\\mathcal{N}_u||\\mathcal{N}_i|}}\\left(W^{(l)}_1e^{(l-1)}_i + W^{(l)}_2(e^{(l-1)}_i \\space \\odot \\space e^{(l-1)}_u)\\right)  \\\\\r\n",
        "      m^{(l)}_{u \\space \\leftarrow \\space u}  = W^{(l)}_1e^{(l-1)}_u \\\\\r\n",
        "    \\end{cases}       \r\n",
        "\\end{equation}$\r\n",
        "</br>\r\n",
        "\r\n",
        "<br>\r\n",
        "Matrix Form:\r\n",
        "\r\n",
        "$E^{(l)} = \\text{LeakyReLU}\\left((\\mathcal{L} + I)E^{(l-1)}W^{(l)}_1 + \\mathcal{L}E^{(l-1)} \\space \\odot \\space E^{(l-1)}W^{(l)}_2\\right)$\r\n",
        "\r\n",
        "where $\\mathcal{L}$ represents the Laplacian for the user-item graph, which is formulated as:\r\n",
        "\r\n",
        "\r\n",
        "\r\n",
        "</br>\r\n"
      ]
    },
    {
      "cell_type": "code",
      "metadata": {
        "id": "WuLoZxlw21mG"
      },
      "source": [
        "import random as rd\r\n",
        "import scipy.sparse as sp\r\n",
        "import numpy as np\r\n",
        "[]\r\n",
        "class Data(object):\r\n",
        "    def __init__(self, path, batch_size):\r\n",
        "        self.path = path\r\n",
        "        self.batch_size = batch_size\r\n",
        "\r\n",
        "        train_file = path + '/train.txt'\r\n",
        "        test_file = path + '/test.txt'\r\n",
        "\r\n",
        "        #get number of users and items\r\n",
        "        self.n_users, self.n_items = 0, 0\r\n",
        "        self.n_train, self.n_test = 0, 0\r\n",
        "        self.neg_pools = {}\r\n",
        "\r\n",
        "        self.exist_users = []\r\n",
        "\r\n",
        "        # search train_file for max user_id/item_id\r\n",
        "        with open(train_file) as f:\r\n",
        "            for l in f.readlines():\r\n",
        "                if len(l) > 0:\r\n",
        "                    l = l.strip('\\n').split(' ')\r\n",
        "                    items = [int(i) for i in l[1:]]\r\n",
        "                    # first element is the user_id, rest are items\r\n",
        "                    uid = int(l[0])\r\n",
        "                    self.exist_users.append(uid)\r\n",
        "                    # item/user with highest number is number of items/users\r\n",
        "                    self.n_items = max(self.n_items, max(items))\r\n",
        "                    self.n_users = max(self.n_users, uid)\r\n",
        "                    # number of interactions\r\n",
        "                    self.n_train += len(items)\r\n",
        "\r\n",
        "        # search test_file for max item_id\r\n",
        "        with open(test_file) as f:\r\n",
        "            for l in f.readlines():\r\n",
        "                if len(l) > 0:\r\n",
        "                    l = l.strip('\\n')\r\n",
        "                    try:\r\n",
        "                        items = [int(i) for i in l.split(' ')[1:]]\r\n",
        "                    except Exception:\r\n",
        "                        continue\r\n",
        "                    if not items:\r\n",
        "                        print(\"empyt test exists\")\r\n",
        "                        pass\r\n",
        "                    else:\r\n",
        "                        self.n_items = max(self.n_items, max(items))\r\n",
        "                        self.n_test += len(items)\r\n",
        "        # adjust counters: user_id/item_id starts at 0\r\n",
        "        self.n_items += 1\r\n",
        "        self.n_users += 1\r\n",
        "\r\n",
        "        self.print_statistics()\r\n",
        "\r\n",
        "        # create interactions/ratings matrix 'R' # dok = dictionary of keys\r\n",
        "        print('Creating interaction matrices R_train and R_test...')\r\n",
        "        t1 = time()\r\n",
        "        self.R_train = sp.dok_matrix((self.n_users, self.n_items), dtype=np.float32) \r\n",
        "        self.R_test = sp.dok_matrix((self.n_users, self.n_items), dtype=np.float32)\r\n",
        "\r\n",
        "        self.train_items, self.test_set = {}, {}\r\n",
        "        with open(train_file) as f_train:\r\n",
        "            with open(test_file) as f_test:\r\n",
        "                for l in f_train.readlines():\r\n",
        "                    if len(l) == 0: break\r\n",
        "                    l = l.strip('\\n')\r\n",
        "                    items = [int(i) for i in l.split(' ')]\r\n",
        "                    uid, train_items = items[0], items[1:]\r\n",
        "                    # enter 1 if user interacted with item\r\n",
        "                    for i in train_items:\r\n",
        "                        self.R_train[uid, i] = 1.\r\n",
        "                    self.train_items[uid] = train_items\r\n",
        "\r\n",
        "                for l in f_test.readlines():\r\n",
        "                    if len(l) == 0: break\r\n",
        "                    l = l.strip('\\n')\r\n",
        "                    try:\r\n",
        "                        items = [int(i) for i in l.split(' ')]\r\n",
        "                    except Exception:\r\n",
        "                        continue\r\n",
        "                    uid, test_items = items[0], items[1:]\r\n",
        "                    for i in test_items:\r\n",
        "                        self.R_test[uid, i] = 1.0\r\n",
        "                    self.test_set[uid] = test_items\r\n",
        "        print('Complete. Interaction matrices R_train and R_test created in', time() - t1, 'sec')\r\n",
        "\r\n",
        "    # if exist, get adjacency matrix\r\n",
        "    def get_adj_mat(self):\r\n",
        "        try:\r\n",
        "            t1 = time()\r\n",
        "            adj_mat = sp.load_npz(self.path + '/s_adj_mat.npz')\r\n",
        "            print('Loaded adjacency-matrix (shape:', adj_mat.shape,') in', time() - t1, 'sec.')\r\n",
        "\r\n",
        "        except Exception:\r\n",
        "            print('Creating adjacency-matrix...')\r\n",
        "            adj_mat = self.create_adj_mat()\r\n",
        "            sp.save_npz(self.path + '/s_adj_mat.npz', adj_mat)\r\n",
        "        return adj_mat\r\n",
        "    \r\n",
        "    # create adjancency matrix\r\n",
        "    def create_adj_mat(self):\r\n",
        "        t1 = time()\r\n",
        "        \r\n",
        "        adj_mat = sp.dok_matrix((self.n_users + self.n_items, self.n_users + self.n_items), dtype=np.float32)\r\n",
        "        adj_mat = adj_mat.tolil()\r\n",
        "        R = self.R_train.tolil() # to list of lists\r\n",
        "\r\n",
        "        adj_mat[:self.n_users, self.n_users:] = R\r\n",
        "        adj_mat[self.n_users:, :self.n_users] = R.T\r\n",
        "        adj_mat = adj_mat.todok()\r\n",
        "        print('Complete. Adjacency-matrix created in', adj_mat.shape, time() - t1, 'sec.')\r\n",
        "\r\n",
        "        t2 = time()\r\n",
        "\r\n",
        "        # normalize adjacency matrix\r\n",
        "        def normalized_adj_single(adj):\r\n",
        "            rowsum = np.array(adj.sum(1))\r\n",
        "\r\n",
        "            d_inv = np.power(rowsum, -.5).flatten()\r\n",
        "            d_inv[np.isinf(d_inv)] = 0.\r\n",
        "            d_mat_inv = sp.diags(d_inv)\r\n",
        "\r\n",
        "            norm_adj = d_mat_inv.dot(adj).dot(d_mat_inv)\r\n",
        "            return norm_adj.tocoo()\r\n",
        "\r\n",
        "        print('Transforming adjacency-matrix to NGCF-adjacency matrix...')\r\n",
        "        ngcf_adj_mat = normalized_adj_single(adj_mat) + sp.eye(adj_mat.shape[0])\r\n",
        "\r\n",
        "        print('Complete. Transformed adjacency-matrix to NGCF-adjacency matrix in', time() - t2, 'sec.')\r\n",
        "        return ngcf_adj_mat.tocsr()\r\n",
        "\r\n",
        "    # create collections of N items that users never interacted with\r\n",
        "    def negative_pool(self):\r\n",
        "        t1 = time()\r\n",
        "        for u in self.train_items.keys():\r\n",
        "            neg_items = list(set(range(self.n_items)) - set(self.train_items[u]))\r\n",
        "            pools = [rd.choice(neg_items) for _ in range(100)]\r\n",
        "            self.neg_pools[u] = pools\r\n",
        "        print('refresh negative pools', time() - t1)\r\n",
        "\r\n",
        "    # sample data for mini-batches\r\n",
        "    def sample(self):\r\n",
        "        if self.batch_size <= self.n_users:\r\n",
        "            users = rd.sample(self.exist_users, self.batch_size)\r\n",
        "        else:\r\n",
        "            users = [rd.choice(self.exist_users) for _ in range(self.batch_size)]\r\n",
        "\r\n",
        "        def sample_pos_items_for_u(u, num):\r\n",
        "            pos_items = self.train_items[u]\r\n",
        "            n_pos_items = len(pos_items)\r\n",
        "            pos_batch = []\r\n",
        "            while True:\r\n",
        "                if len(pos_batch) == num: break\r\n",
        "                pos_id = np.random.randint(low=0, high=n_pos_items, size=1)[0]\r\n",
        "                pos_i_id = pos_items[pos_id]\r\n",
        "\r\n",
        "                if pos_i_id not in pos_batch:\r\n",
        "                    pos_batch.append(pos_i_id)\r\n",
        "            return pos_batch\r\n",
        "\r\n",
        "        def sample_neg_items_for_u(u, num):\r\n",
        "            neg_items = []\r\n",
        "            while True:\r\n",
        "                if len(neg_items) == num: break\r\n",
        "                neg_id = np.random.randint(low=0, high=self.n_items,size=1)[0]\r\n",
        "                if neg_id not in self.train_items[u] and neg_id not in neg_items:\r\n",
        "                    neg_items.append(neg_id)\r\n",
        "            return neg_items\r\n",
        "\r\n",
        "        def sample_neg_items_for_u_from_pools(u, num):\r\n",
        "            neg_items = list(set(self.neg_pools[u]) - set(self.train_items[u]))\r\n",
        "            return rd.sample(neg_items, num)\r\n",
        "\r\n",
        "        pos_items, neg_items = [], []\r\n",
        "        for u in users:\r\n",
        "            pos_items += sample_pos_items_for_u(u, 1)\r\n",
        "            neg_items += sample_neg_items_for_u(u, 1)\r\n",
        "\r\n",
        "        return users, pos_items, neg_items\r\n",
        "\r\n",
        "    def get_num_users_items(self):\r\n",
        "        return self.n_users, self.n_items\r\n",
        "\r\n",
        "    def print_statistics(self):\r\n",
        "        print('n_users=%d, n_items=%d' % (self.n_users, self.n_items))\r\n",
        "        print('n_interactions=%d' % (self.n_train + self.n_test))\r\n",
        "        print('n_train=%d, n_test=%d, sparsity=%.5f' % (self.n_train, self.n_test, (self.n_train + self.n_test)/(self.n_users * self.n_items)))\r\n"
      ],
      "execution_count": 19,
      "outputs": []
    },
    {
      "cell_type": "code",
      "metadata": {
        "id": "WIySgH1X3X3b"
      },
      "source": [
        "import numpy as np\r\n",
        "import scipy.sparse as sp\r\n",
        "import torch\r\n",
        "import torch.nn.functional as F\r\n",
        "import scipy.sparse as sp\r\n",
        "\r\n",
        "from torch import nn\r\n",
        "\r\n",
        "device = torch.device(\"cuda\" if torch.cuda.is_available() else \"cpu\")\r\n",
        "\r\n",
        "class NGCF(nn.Module):\r\n",
        "    def __init__(self, n_users, n_items, emb_dim, layers, reg, node_dropout, mess_dropout,\r\n",
        "        adj_mtx):\r\n",
        "        super().__init__()\r\n",
        "\r\n",
        "        # initialize Class attributes\r\n",
        "        self.n_users = n_users\r\n",
        "        self.n_items = n_items\r\n",
        "        self.emb_dim = emb_dim\r\n",
        "        self.adj_mtx = adj_mtx\r\n",
        "        self.laplacian = adj_mtx - sp.eye(adj_mtx.shape[0])\r\n",
        "        self.reg = reg\r\n",
        "        self.layers = layers\r\n",
        "        self.n_layers = len(self.layers)\r\n",
        "        self.node_dropout = node_dropout\r\n",
        "        self.mess_dropout = mess_dropout\r\n",
        "\r\n",
        "        #self.u_g_embeddings = nn.Parameter(torch.empty(n_users, emb_dim+np.sum(self.layers)))\r\n",
        "        #self.i_g_embeddings = nn.Parameter(torch.empty(n_items, emb_dim+np.sum(self.layers)))\r\n",
        "\r\n",
        "        # Initialize weights\r\n",
        "        self.weight_dict = self._init_weights()\r\n",
        "        print(\"Weights initialized.\")\r\n",
        "\r\n",
        "        # Create Matrix 'A', PyTorch sparse tensor of SP adjacency_mtx\r\n",
        "        self.A = self._convert_sp_mat_to_sp_tensor(self.adj_mtx)\r\n",
        "        self.L = self._convert_sp_mat_to_sp_tensor(self.laplacian)\r\n",
        "\r\n",
        "    # initialize weights\r\n",
        "    def _init_weights(self):\r\n",
        "        print(\"Initializing weights...\")\r\n",
        "        weight_dict = nn.ParameterDict()\r\n",
        "\r\n",
        "        initializer = torch.nn.init.xavier_uniform_\r\n",
        "        \r\n",
        "        weight_dict['user_embedding'] = nn.Parameter(initializer(torch.empty(self.n_users, self.emb_dim).to(device)))\r\n",
        "        weight_dict['item_embedding'] = nn.Parameter(initializer(torch.empty(self.n_items, self.emb_dim).to(device)))\r\n",
        "\r\n",
        "        weight_size_list = [self.emb_dim] + self.layers\r\n",
        "\r\n",
        "        for k in range(self.n_layers):\r\n",
        "            weight_dict['W_gc_%d' %k] = nn.Parameter(initializer(torch.empty(weight_size_list[k], weight_size_list[k+1]).to(device)))\r\n",
        "            weight_dict['b_gc_%d' %k] = nn.Parameter(initializer(torch.empty(1, weight_size_list[k+1]).to(device)))\r\n",
        "            \r\n",
        "            weight_dict['W_bi_%d' %k] = nn.Parameter(initializer(torch.empty(weight_size_list[k], weight_size_list[k+1]).to(device)))\r\n",
        "            weight_dict['b_bi_%d' %k] = nn.Parameter(initializer(torch.empty(1, weight_size_list[k+1]).to(device)))\r\n",
        "           \r\n",
        "        return weight_dict\r\n",
        "\r\n",
        "    # convert sparse matrix into sparse PyTorch tensor\r\n",
        "    def _convert_sp_mat_to_sp_tensor(self, X):\r\n",
        "        \"\"\"\r\n",
        "        Convert scipy sparse matrix to PyTorch sparse matrix\r\n",
        "\r\n",
        "        Arguments:\r\n",
        "        ----------\r\n",
        "        X = Adjacency matrix, scipy sparse matrix\r\n",
        "        \"\"\"\r\n",
        "        coo = X.tocoo().astype(np.float32)\r\n",
        "        i = torch.LongTensor(np.mat([coo.row, coo.col]))\r\n",
        "        v = torch.FloatTensor(coo.data)\r\n",
        "        res = torch.sparse.FloatTensor(i, v, coo.shape).to(device)\r\n",
        "        return res\r\n",
        "\r\n",
        "    # apply node_dropout\r\n",
        "    def _droupout_sparse(self, X):\r\n",
        "        \"\"\"\r\n",
        "        Drop individual locations in X\r\n",
        "        \r\n",
        "        Arguments:\r\n",
        "        ---------\r\n",
        "        X = adjacency matrix (PyTorch sparse tensor)\r\n",
        "        dropout = fraction of nodes to drop\r\n",
        "        noise_shape = number of non non-zero entries of X\r\n",
        "        \"\"\"\r\n",
        "        \r\n",
        "        node_dropout_mask = ((self.node_dropout) + torch.rand(X._nnz())).floor().bool().to(device)\r\n",
        "        i = X.coalesce().indices()\r\n",
        "        v = X.coalesce()._values()\r\n",
        "        i[:,node_dropout_mask] = 0\r\n",
        "        v[node_dropout_mask] = 0\r\n",
        "        X_dropout = torch.sparse.FloatTensor(i, v, X.shape).to(X.device)\r\n",
        "\r\n",
        "        return  X_dropout.mul(1/(1-self.node_dropout))\r\n",
        "\r\n",
        "    def forward(self, u, i, j):\r\n",
        "        \"\"\"\r\n",
        "        Computes the forward pass\r\n",
        "        \r\n",
        "        Arguments:\r\n",
        "        ---------\r\n",
        "        u = user\r\n",
        "        i = positive item (user interacted with item)\r\n",
        "        j = negative item (user did not interact with item)\r\n",
        "        \"\"\"\r\n",
        "        # apply drop-out mask\r\n",
        "        A_hat = self._droupout_sparse(self.A) if self.node_dropout > 0 else self.A\r\n",
        "        L_hat = self._droupout_sparse(self.L) if self.node_dropout > 0 else self.L\r\n",
        "\r\n",
        "        ego_embeddings = torch.cat([self.weight_dict['user_embedding'], self.weight_dict['item_embedding']], 0)\r\n",
        "\r\n",
        "        all_embeddings = [ego_embeddings]\r\n",
        "\r\n",
        "        # forward pass for 'n' propagation layers\r\n",
        "        for k in range(self.n_layers):\r\n",
        "\r\n",
        "            # weighted sum messages of neighbours\r\n",
        "            side_embeddings = torch.sparse.mm(A_hat, ego_embeddings)\r\n",
        "            side_L_embeddings = torch.sparse.mm(L_hat, ego_embeddings)\r\n",
        "\r\n",
        "            # transformed sum weighted sum messages of neighbours\r\n",
        "            sum_embeddings = torch.matmul(side_embeddings, self.weight_dict['W_gc_%d' % k]) + self.weight_dict['b_gc_%d' % k]\r\n",
        "\r\n",
        "            # bi messages of neighbours\r\n",
        "            bi_embeddings = torch.mul(ego_embeddings, side_L_embeddings)\r\n",
        "            # transformed bi messages of neighbours\r\n",
        "            bi_embeddings = torch.matmul(bi_embeddings, self.weight_dict['W_bi_%d' % k]) + self.weight_dict['b_bi_%d' % k]\r\n",
        "\r\n",
        "            # non-linear activation \r\n",
        "            ego_embeddings = F.leaky_relu(sum_embeddings + bi_embeddings)\r\n",
        "            # + message dropout\r\n",
        "            mess_dropout_mask = nn.Dropout(self.mess_dropout)\r\n",
        "            ego_embeddings = mess_dropout_mask(ego_embeddings)\r\n",
        "\r\n",
        "            # normalize activation\r\n",
        "            norm_embeddings = F.normalize(ego_embeddings, p=2, dim=1)\r\n",
        "\r\n",
        "            all_embeddings.append(norm_embeddings)\r\n",
        "\r\n",
        "        all_embeddings = torch.cat(all_embeddings, 1)\r\n",
        "        \r\n",
        "        # back to user/item dimension\r\n",
        "        u_g_embeddings, i_g_embeddings = all_embeddings.split([self.n_users, self.n_items], 0)\r\n",
        "\r\n",
        "        self.u_g_embeddings = nn.Parameter(u_g_embeddings)\r\n",
        "        self.i_g_embeddings = nn.Parameter(i_g_embeddings)\r\n",
        "        \r\n",
        "        u_emb = u_g_embeddings[u] # user embeddings\r\n",
        "        p_emb = i_g_embeddings[i] # positive item embeddings\r\n",
        "        n_emb = i_g_embeddings[j] # negative item embeddings\r\n",
        "\r\n",
        "        y_ui = torch.mul(u_emb, p_emb).sum(dim=1)\r\n",
        "        y_uj = torch.mul(u_emb, n_emb).sum(dim=1)\r\n",
        "        log_prob = (torch.log(torch.sigmoid(y_ui-y_uj))).mean()\r\n",
        "\r\n",
        "        # compute bpr-loss\r\n",
        "        bpr_loss = -log_prob\r\n",
        "        if self.reg > 0.:\r\n",
        "            l2norm = (torch.sum(u_emb**2)/2. + torch.sum(p_emb**2)/2. + torch.sum(n_emb**2)/2.) / u_emb.shape[0]\r\n",
        "            l2reg  = self.reg*l2norm\r\n",
        "            bpr_loss =  -log_prob + l2reg\r\n",
        "\r\n",
        "        return bpr_loss"
      ],
      "execution_count": 22,
      "outputs": []
    },
    {
      "cell_type": "code",
      "metadata": {
        "id": "f3uJEy123W5q"
      },
      "source": [
        "# Parameters Inicialization\r\n",
        "\r\n",
        "data_dir = source_path+'/data/'\r\n",
        "dataset = 'ml-100k'\r\n",
        "batch_size = 1024\r\n",
        "layers = eval('[64,64]')\r\n",
        "emb_dim = 64\r\n",
        "lr = 0.0001\r\n",
        "reg = 1e-5\r\n",
        "mess_dropout = 0.1\r\n",
        "node_dropout = 0.\r\n",
        "k = 10\r\n",
        "n_epochs = 400\r\n",
        "eval_N = 1\r\n",
        "save_results = 1\r\n",
        "results_dir = 'results'"
      ],
      "execution_count": 23,
      "outputs": []
    },
    {
      "cell_type": "code",
      "metadata": {
        "colab": {
          "base_uri": "https://localhost:8080/"
        },
        "id": "qNHrZVLvg7hU",
        "outputId": "6aeb982c-3896-4b32-89c9-8aabfd033bf6"
      },
      "source": [
        "data_generator = Data(path=data_dir + dataset, batch_size=batch_size)\r\n",
        "adj_mtx = data_generator.get_adj_mat()\r\n",
        "\r\n",
        "model = NGCF(data_generator.n_users, \r\n",
        "              data_generator.n_items,\r\n",
        "              emb_dim,\r\n",
        "              layers,\r\n",
        "              reg,\r\n",
        "              node_dropout,\r\n",
        "              mess_dropout,\r\n",
        "              adj_mtx)"
      ],
      "execution_count": 24,
      "outputs": [
        {
          "output_type": "stream",
          "text": [
            "n_users=943, n_items=1682\n",
            "n_interactions=100000\n",
            "n_train=80064, n_test=19936, sparsity=0.06305\n",
            "Creating interaction matrices R_train and R_test...\n",
            "Complete. Interaction matrices R_train and R_test created in 1.0807478427886963 sec\n",
            "Loaded adjacency-matrix (shape: (2625, 2625) ) in 0.018945932388305664 sec.\n",
            "Initializing weights...\n"
          ],
          "name": "stdout"
        },
        {
          "output_type": "stream",
          "text": [
            "/usr/local/lib/python3.6/dist-packages/torch/nn/modules/container.py:550: UserWarning: Setting attributes on ParameterDict is not supported.\n",
            "  warnings.warn(\"Setting attributes on ParameterDict is not supported.\")\n"
          ],
          "name": "stderr"
        },
        {
          "output_type": "stream",
          "text": [
            "Weights initialized.\n"
          ],
          "name": "stdout"
        }
      ]
    },
    {
      "cell_type": "code",
      "metadata": {
        "id": "pH_E9UwyWate"
      },
      "source": [
        "# apply drop-out mask\r\n",
        "A_hat = model._droupout_sparse(model.A) if model.node_dropout > 0 else model.A\r\n",
        "L_hat = model._droupout_sparse(model.L) if model.node_dropout > 0 else model.L\r\n",
        "\r\n",
        "ego_embeddings = torch.cat([model.weight_dict['user_embedding'], model.weight_dict['item_embedding']], 0)"
      ],
      "execution_count": 25,
      "outputs": []
    },
    {
      "cell_type": "code",
      "metadata": {
        "colab": {
          "base_uri": "https://localhost:8080/"
        },
        "id": "D6DvTuq_WawM",
        "outputId": "2c841a6e-4000-4980-8ff0-3c43e7bcf314"
      },
      "source": [
        "ego_embeddings.shape"
      ],
      "execution_count": 27,
      "outputs": [
        {
          "output_type": "execute_result",
          "data": {
            "text/plain": [
              "torch.Size([2625, 64])"
            ]
          },
          "metadata": {
            "tags": []
          },
          "execution_count": 27
        }
      ]
    },
    {
      "cell_type": "code",
      "metadata": {
        "id": "H8efEExPWayf"
      },
      "source": [
        ""
      ],
      "execution_count": null,
      "outputs": []
    },
    {
      "cell_type": "code",
      "metadata": {
        "id": "djYiS09PWa0-"
      },
      "source": [
        ""
      ],
      "execution_count": null,
      "outputs": []
    },
    {
      "cell_type": "code",
      "metadata": {
        "id": "TSgX1QfWWa3k"
      },
      "source": [
        ""
      ],
      "execution_count": null,
      "outputs": []
    },
    {
      "cell_type": "code",
      "metadata": {
        "id": "VLtGI87wWa6b"
      },
      "source": [
        ""
      ],
      "execution_count": null,
      "outputs": []
    },
    {
      "cell_type": "markdown",
      "metadata": {
        "id": "6eYk4IfslS96"
      },
      "source": [
        "++++++++++++++++++++++++++++++++++++++++++++++++++++++++++++++++++++++++++++"
      ]
    },
    {
      "cell_type": "code",
      "metadata": {
        "id": "JN_UbwEBa8kH"
      },
      "source": [
        "# Parameters Inicialization\r\n",
        "\r\n",
        "data_dir = source_path+'/data/'\r\n",
        "dataset = 'ml-100k'\r\n",
        "batch_size = 1024\r\n",
        "layers = eval('[64,64]')\r\n",
        "emb_dim = 64\r\n",
        "lr = 0.0001\r\n",
        "reg = 1e-5\r\n",
        "mess_dropout = 0.1\r\n",
        "node_dropout = 0.\r\n",
        "k = 10\r\n",
        "n_epochs = 400\r\n",
        "eval_N = 1\r\n",
        "save_results = 1\r\n",
        "results_dir = 'results'\r\n"
      ],
      "execution_count": 6,
      "outputs": []
    },
    {
      "cell_type": "code",
      "metadata": {
        "id": "_4_GIZB1Mn6T",
        "colab": {
          "base_uri": "https://localhost:8080/",
          "height": 1000
        },
        "outputId": "f5d85181-a733-46f4-fce7-72c2ddf4850e"
      },
      "source": [
        "# generate the NGCF-adjacency matrix\r\n",
        "data_generator = Data(path=data_dir + dataset, batch_size=batch_size)\r\n",
        "adj_mtx = data_generator.get_adj_mat()\r\n",
        "\r\n",
        "# create model name and save\r\n",
        "modelname =  \"NGCF\" + \\\r\n",
        "    \"_bs_\" + str(batch_size) + \\\r\n",
        "    \"_nemb_\" + str(emb_dim) + \\\r\n",
        "    \"_layers_\" + str(layers) + \\\r\n",
        "    \"_nodedr_\" + str(node_dropout) + \\\r\n",
        "    \"_messdr_\" + str(mess_dropout) + \\\r\n",
        "    \"_reg_\" + str(reg) + \\\r\n",
        "    \"_lr_\"  + str(lr)\r\n",
        "\r\n",
        "# create NGCF model\r\n",
        "model = NGCF(data_generator.n_users, \r\n",
        "              data_generator.n_items,\r\n",
        "              emb_dim,\r\n",
        "              layers,\r\n",
        "              reg,\r\n",
        "              node_dropout,\r\n",
        "              mess_dropout,\r\n",
        "              adj_mtx)\r\n",
        "if use_cuda:\r\n",
        "    model = model.cuda()\r\n",
        "\r\n",
        "# current best metric\r\n",
        "cur_best_metric = 0\r\n",
        "\r\n",
        "# Adam optimizer\r\n",
        "optimizer = torch.optim.Adam(model.parameters(), lr=lr)\r\n",
        "\r\n",
        "# Set values for early stopping\r\n",
        "cur_best_loss, stopping_step, should_stop = 1e3, 0, False\r\n",
        "today = datetime.now()\r\n",
        "\r\n",
        "print(\"Start at \" + str(today))\r\n",
        "print(\"Using \" + str(device) + \" for computations\")\r\n",
        "print(\"Params on CUDA: \" + str(next(model.parameters()).is_cuda))\r\n",
        "\r\n",
        "results = {\"Epoch\": [],\r\n",
        "            \"Loss\": [],\r\n",
        "            \"Recall\": [],\r\n",
        "            \"NDCG\": [],\r\n",
        "            \"Training Time\": []}\r\n",
        "\r\n",
        "for epoch in range(n_epochs):\r\n",
        "\r\n",
        "    t1 = time()\r\n",
        "    loss = train(model, data_generator, optimizer)\r\n",
        "    training_time = time()-t1\r\n",
        "    print(\"Epoch: {}, Training time: {:.2f}s, Loss: {:.4f}\".\r\n",
        "        format(epoch, training_time, loss))\r\n",
        "\r\n",
        "    # print test evaluation metrics every N epochs (provided by eval_N)\r\n",
        "    if epoch % eval_N  == (eval_N - 1):\r\n",
        "        with torch.no_grad():\r\n",
        "            t2 = time()\r\n",
        "            recall, ndcg = eval_model(model.u_g_embeddings.detach(),\r\n",
        "                                      model.i_g_embeddings.detach(),\r\n",
        "                                      data_generator.R_train,\r\n",
        "                                      data_generator.R_test,\r\n",
        "                                      k)\r\n",
        "        print(\r\n",
        "            \"Evaluate current model:\\n\",\r\n",
        "            \"Epoch: {}, Validation time: {:.2f}s\".format(epoch, time()-t2),\"\\n\",\r\n",
        "            \"Loss: {:.4f}:\".format(loss), \"\\n\",\r\n",
        "            \"Recall@{}: {:.4f}\".format(k, recall), \"\\n\",\r\n",
        "            \"NDCG@{}: {:.4f}\".format(k, ndcg)\r\n",
        "            )\r\n",
        "\r\n",
        "        cur_best_metric, stopping_step, should_stop = \\\r\n",
        "        early_stopping(recall, cur_best_metric, stopping_step, flag_step=5)\r\n",
        "\r\n",
        "        # save results in dict\r\n",
        "        results['Epoch'].append(epoch)\r\n",
        "        results['Loss'].append(loss)\r\n",
        "        results['Recall'].append(recall.item())\r\n",
        "        results['NDCG'].append(ndcg.item())\r\n",
        "        results['Training Time'].append(training_time)\r\n",
        "    else:\r\n",
        "        # save results in dict\r\n",
        "        results['Epoch'].append(epoch)\r\n",
        "        results['Loss'].append(loss)\r\n",
        "        results['Recall'].append(None)\r\n",
        "        results['NDCG'].append(None)\r\n",
        "        results['Training Time'].append(training_time)\r\n",
        "\r\n",
        "    if should_stop == True: break\r\n",
        "\r\n",
        "# save\r\n",
        "if save_results:\r\n",
        "    date = today.strftime(\"%d%m%Y_%H%M\")\r\n",
        "\r\n",
        "    # save model as .pt file\r\n",
        "    if os.path.isdir(\"./models\"):\r\n",
        "        torch.save(model.state_dict(), \"./models/\" + str(date) + \"_\" + modelname + \"_\" + dataset + \".pt\")\r\n",
        "    else:\r\n",
        "        os.mkdir(\"./models\")\r\n",
        "        torch.save(model.state_dict(), \"./models/\" + str(date) + \"_\" + modelname + \"_\" + dataset + \".pt\")\r\n",
        "\r\n",
        "    # save results as pandas dataframe\r\n",
        "    results_df = pd.DataFrame(results)\r\n",
        "    results_df.set_index('Epoch', inplace=True)\r\n",
        "    if os.path.isdir(\"./results\"):\r\n",
        "        results_df.to_csv(\"./results/\" + str(date) + \"_\" + modelname + \"_\" + dataset + \".csv\")\r\n",
        "    else:\r\n",
        "        os.mkdir(\"./results\")\r\n",
        "        results_df.to_csv(\"./results/\" + str(date) + \"_\" + modelname + \"_\" + dataset + \".csv\")\r\n",
        "    # plot loss\r\n",
        "    results_df['Loss'].plot(figsize=(12,8), title='Loss')"
      ],
      "execution_count": null,
      "outputs": [
        {
          "output_type": "stream",
          "text": [
            "Evaluate current model:\n",
            " Epoch: 10, Validation time: 1.15s \n",
            " Loss: 34.9819: \n",
            " Recall@10: 0.0501 \n",
            " NDCG@10: 0.2367\n"
          ],
          "name": "stdout"
        },
        {
          "output_type": "stream",
          "text": [
            "/usr/local/lib/python3.6/dist-packages/torch/nn/modules/container.py:550: UserWarning: Setting attributes on ParameterDict is not supported.\n",
            "  warnings.warn(\"Setting attributes on ParameterDict is not supported.\")\n"
          ],
          "name": "stderr"
        },
        {
          "output_type": "stream",
          "text": [
            "Epoch: 11, Training time: 4.19s, Loss: 33.9161\n",
            "Evaluate current model:\n",
            " Epoch: 11, Validation time: 1.12s \n",
            " Loss: 33.9161: \n",
            " Recall@10: 0.0437 \n",
            " NDCG@10: 0.2262\n"
          ],
          "name": "stdout"
        },
        {
          "output_type": "stream",
          "text": [
            "/usr/local/lib/python3.6/dist-packages/torch/nn/modules/container.py:550: UserWarning: Setting attributes on ParameterDict is not supported.\n",
            "  warnings.warn(\"Setting attributes on ParameterDict is not supported.\")\n"
          ],
          "name": "stderr"
        },
        {
          "output_type": "stream",
          "text": [
            "Epoch: 12, Training time: 4.21s, Loss: 32.7651\n",
            "Evaluate current model:\n",
            " Epoch: 12, Validation time: 1.11s \n",
            " Loss: 32.7651: \n",
            " Recall@10: 0.0556 \n",
            " NDCG@10: 0.2607\n"
          ],
          "name": "stdout"
        },
        {
          "output_type": "stream",
          "text": [
            "/usr/local/lib/python3.6/dist-packages/torch/nn/modules/container.py:550: UserWarning: Setting attributes on ParameterDict is not supported.\n",
            "  warnings.warn(\"Setting attributes on ParameterDict is not supported.\")\n"
          ],
          "name": "stderr"
        },
        {
          "output_type": "stream",
          "text": [
            "Epoch: 13, Training time: 4.19s, Loss: 31.4561\n",
            "Evaluate current model:\n",
            " Epoch: 13, Validation time: 1.12s \n",
            " Loss: 31.4561: \n",
            " Recall@10: 0.0521 \n",
            " NDCG@10: 0.2597\n"
          ],
          "name": "stdout"
        },
        {
          "output_type": "stream",
          "text": [
            "/usr/local/lib/python3.6/dist-packages/torch/nn/modules/container.py:550: UserWarning: Setting attributes on ParameterDict is not supported.\n",
            "  warnings.warn(\"Setting attributes on ParameterDict is not supported.\")\n"
          ],
          "name": "stderr"
        },
        {
          "output_type": "stream",
          "text": [
            "Epoch: 14, Training time: 4.26s, Loss: 30.6961\n",
            "Evaluate current model:\n",
            " Epoch: 14, Validation time: 1.13s \n",
            " Loss: 30.6961: \n",
            " Recall@10: 0.0558 \n",
            " NDCG@10: 0.2883\n"
          ],
          "name": "stdout"
        },
        {
          "output_type": "stream",
          "text": [
            "/usr/local/lib/python3.6/dist-packages/torch/nn/modules/container.py:550: UserWarning: Setting attributes on ParameterDict is not supported.\n",
            "  warnings.warn(\"Setting attributes on ParameterDict is not supported.\")\n"
          ],
          "name": "stderr"
        },
        {
          "output_type": "stream",
          "text": [
            "Epoch: 15, Training time: 4.15s, Loss: 30.1188\n",
            "Evaluate current model:\n",
            " Epoch: 15, Validation time: 1.11s \n",
            " Loss: 30.1188: \n",
            " Recall@10: 0.0592 \n",
            " NDCG@10: 0.2960\n"
          ],
          "name": "stdout"
        },
        {
          "output_type": "stream",
          "text": [
            "/usr/local/lib/python3.6/dist-packages/torch/nn/modules/container.py:550: UserWarning: Setting attributes on ParameterDict is not supported.\n",
            "  warnings.warn(\"Setting attributes on ParameterDict is not supported.\")\n"
          ],
          "name": "stderr"
        },
        {
          "output_type": "stream",
          "text": [
            "Epoch: 16, Training time: 4.34s, Loss: 29.4203\n",
            "Evaluate current model:\n",
            " Epoch: 16, Validation time: 1.14s \n",
            " Loss: 29.4203: \n",
            " Recall@10: 0.0565 \n",
            " NDCG@10: 0.2824\n"
          ],
          "name": "stdout"
        },
        {
          "output_type": "stream",
          "text": [
            "/usr/local/lib/python3.6/dist-packages/torch/nn/modules/container.py:550: UserWarning: Setting attributes on ParameterDict is not supported.\n",
            "  warnings.warn(\"Setting attributes on ParameterDict is not supported.\")\n"
          ],
          "name": "stderr"
        },
        {
          "output_type": "stream",
          "text": [
            "Epoch: 17, Training time: 4.25s, Loss: 28.4884\n",
            "Evaluate current model:\n",
            " Epoch: 17, Validation time: 1.15s \n",
            " Loss: 28.4884: \n",
            " Recall@10: 0.0758 \n",
            " NDCG@10: 0.3202\n"
          ],
          "name": "stdout"
        },
        {
          "output_type": "stream",
          "text": [
            "/usr/local/lib/python3.6/dist-packages/torch/nn/modules/container.py:550: UserWarning: Setting attributes on ParameterDict is not supported.\n",
            "  warnings.warn(\"Setting attributes on ParameterDict is not supported.\")\n"
          ],
          "name": "stderr"
        },
        {
          "output_type": "stream",
          "text": [
            "Epoch: 18, Training time: 4.32s, Loss: 27.5151\n",
            "Evaluate current model:\n",
            " Epoch: 18, Validation time: 1.15s \n",
            " Loss: 27.5151: \n",
            " Recall@10: 0.0710 \n",
            " NDCG@10: 0.3070\n"
          ],
          "name": "stdout"
        },
        {
          "output_type": "stream",
          "text": [
            "/usr/local/lib/python3.6/dist-packages/torch/nn/modules/container.py:550: UserWarning: Setting attributes on ParameterDict is not supported.\n",
            "  warnings.warn(\"Setting attributes on ParameterDict is not supported.\")\n"
          ],
          "name": "stderr"
        },
        {
          "output_type": "stream",
          "text": [
            "Epoch: 19, Training time: 4.20s, Loss: 26.8739\n",
            "Evaluate current model:\n",
            " Epoch: 19, Validation time: 1.13s \n",
            " Loss: 26.8739: \n",
            " Recall@10: 0.0765 \n",
            " NDCG@10: 0.3228\n"
          ],
          "name": "stdout"
        },
        {
          "output_type": "stream",
          "text": [
            "/usr/local/lib/python3.6/dist-packages/torch/nn/modules/container.py:550: UserWarning: Setting attributes on ParameterDict is not supported.\n",
            "  warnings.warn(\"Setting attributes on ParameterDict is not supported.\")\n"
          ],
          "name": "stderr"
        },
        {
          "output_type": "stream",
          "text": [
            "Epoch: 20, Training time: 4.04s, Loss: 26.4616\n",
            "Evaluate current model:\n",
            " Epoch: 20, Validation time: 1.11s \n",
            " Loss: 26.4616: \n",
            " Recall@10: 0.0726 \n",
            " NDCG@10: 0.3136\n"
          ],
          "name": "stdout"
        },
        {
          "output_type": "stream",
          "text": [
            "/usr/local/lib/python3.6/dist-packages/torch/nn/modules/container.py:550: UserWarning: Setting attributes on ParameterDict is not supported.\n",
            "  warnings.warn(\"Setting attributes on ParameterDict is not supported.\")\n"
          ],
          "name": "stderr"
        },
        {
          "output_type": "stream",
          "text": [
            "Epoch: 21, Training time: 4.27s, Loss: 26.2890\n",
            "Evaluate current model:\n",
            " Epoch: 21, Validation time: 1.11s \n",
            " Loss: 26.2890: \n",
            " Recall@10: 0.0762 \n",
            " NDCG@10: 0.3357\n"
          ],
          "name": "stdout"
        },
        {
          "output_type": "stream",
          "text": [
            "/usr/local/lib/python3.6/dist-packages/torch/nn/modules/container.py:550: UserWarning: Setting attributes on ParameterDict is not supported.\n",
            "  warnings.warn(\"Setting attributes on ParameterDict is not supported.\")\n"
          ],
          "name": "stderr"
        },
        {
          "output_type": "stream",
          "text": [
            "Epoch: 22, Training time: 4.16s, Loss: 25.7785\n",
            "Evaluate current model:\n",
            " Epoch: 22, Validation time: 1.15s \n",
            " Loss: 25.7785: \n",
            " Recall@10: 0.0833 \n",
            " NDCG@10: 0.3467\n"
          ],
          "name": "stdout"
        },
        {
          "output_type": "stream",
          "text": [
            "/usr/local/lib/python3.6/dist-packages/torch/nn/modules/container.py:550: UserWarning: Setting attributes on ParameterDict is not supported.\n",
            "  warnings.warn(\"Setting attributes on ParameterDict is not supported.\")\n"
          ],
          "name": "stderr"
        },
        {
          "output_type": "stream",
          "text": [
            "Epoch: 23, Training time: 4.44s, Loss: 25.4927\n",
            "Evaluate current model:\n",
            " Epoch: 23, Validation time: 1.11s \n",
            " Loss: 25.4927: \n",
            " Recall@10: 0.0825 \n",
            " NDCG@10: 0.3611\n"
          ],
          "name": "stdout"
        },
        {
          "output_type": "stream",
          "text": [
            "/usr/local/lib/python3.6/dist-packages/torch/nn/modules/container.py:550: UserWarning: Setting attributes on ParameterDict is not supported.\n",
            "  warnings.warn(\"Setting attributes on ParameterDict is not supported.\")\n"
          ],
          "name": "stderr"
        },
        {
          "output_type": "stream",
          "text": [
            "Epoch: 24, Training time: 4.35s, Loss: 25.5589\n",
            "Evaluate current model:\n",
            " Epoch: 24, Validation time: 1.14s \n",
            " Loss: 25.5589: \n",
            " Recall@10: 0.0846 \n",
            " NDCG@10: 0.3725\n"
          ],
          "name": "stdout"
        },
        {
          "output_type": "stream",
          "text": [
            "/usr/local/lib/python3.6/dist-packages/torch/nn/modules/container.py:550: UserWarning: Setting attributes on ParameterDict is not supported.\n",
            "  warnings.warn(\"Setting attributes on ParameterDict is not supported.\")\n"
          ],
          "name": "stderr"
        },
        {
          "output_type": "stream",
          "text": [
            "Epoch: 25, Training time: 4.14s, Loss: 25.1124\n",
            "Evaluate current model:\n",
            " Epoch: 25, Validation time: 1.11s \n",
            " Loss: 25.1124: \n",
            " Recall@10: 0.0958 \n",
            " NDCG@10: 0.3709\n"
          ],
          "name": "stdout"
        },
        {
          "output_type": "stream",
          "text": [
            "/usr/local/lib/python3.6/dist-packages/torch/nn/modules/container.py:550: UserWarning: Setting attributes on ParameterDict is not supported.\n",
            "  warnings.warn(\"Setting attributes on ParameterDict is not supported.\")\n"
          ],
          "name": "stderr"
        },
        {
          "output_type": "stream",
          "text": [
            "Epoch: 26, Training time: 4.41s, Loss: 25.1572\n",
            "Evaluate current model:\n",
            " Epoch: 26, Validation time: 1.14s \n",
            " Loss: 25.1572: \n",
            " Recall@10: 0.0985 \n",
            " NDCG@10: 0.3801\n"
          ],
          "name": "stdout"
        },
        {
          "output_type": "stream",
          "text": [
            "/usr/local/lib/python3.6/dist-packages/torch/nn/modules/container.py:550: UserWarning: Setting attributes on ParameterDict is not supported.\n",
            "  warnings.warn(\"Setting attributes on ParameterDict is not supported.\")\n"
          ],
          "name": "stderr"
        },
        {
          "output_type": "stream",
          "text": [
            "Epoch: 27, Training time: 4.48s, Loss: 24.8275\n",
            "Evaluate current model:\n",
            " Epoch: 27, Validation time: 1.12s \n",
            " Loss: 24.8275: \n",
            " Recall@10: 0.0882 \n",
            " NDCG@10: 0.3695\n"
          ],
          "name": "stdout"
        },
        {
          "output_type": "stream",
          "text": [
            "/usr/local/lib/python3.6/dist-packages/torch/nn/modules/container.py:550: UserWarning: Setting attributes on ParameterDict is not supported.\n",
            "  warnings.warn(\"Setting attributes on ParameterDict is not supported.\")\n"
          ],
          "name": "stderr"
        },
        {
          "output_type": "stream",
          "text": [
            "Epoch: 28, Training time: 4.14s, Loss: 24.6486\n",
            "Evaluate current model:\n",
            " Epoch: 28, Validation time: 1.11s \n",
            " Loss: 24.6486: \n",
            " Recall@10: 0.0991 \n",
            " NDCG@10: 0.3953\n"
          ],
          "name": "stdout"
        },
        {
          "output_type": "stream",
          "text": [
            "/usr/local/lib/python3.6/dist-packages/torch/nn/modules/container.py:550: UserWarning: Setting attributes on ParameterDict is not supported.\n",
            "  warnings.warn(\"Setting attributes on ParameterDict is not supported.\")\n"
          ],
          "name": "stderr"
        },
        {
          "output_type": "stream",
          "text": [
            "Epoch: 29, Training time: 4.30s, Loss: 24.3432\n",
            "Evaluate current model:\n",
            " Epoch: 29, Validation time: 1.15s \n",
            " Loss: 24.3432: \n",
            " Recall@10: 0.0972 \n",
            " NDCG@10: 0.3981\n"
          ],
          "name": "stdout"
        },
        {
          "output_type": "stream",
          "text": [
            "/usr/local/lib/python3.6/dist-packages/torch/nn/modules/container.py:550: UserWarning: Setting attributes on ParameterDict is not supported.\n",
            "  warnings.warn(\"Setting attributes on ParameterDict is not supported.\")\n"
          ],
          "name": "stderr"
        },
        {
          "output_type": "stream",
          "text": [
            "Epoch: 30, Training time: 4.03s, Loss: 24.3153\n",
            "Evaluate current model:\n",
            " Epoch: 30, Validation time: 1.12s \n",
            " Loss: 24.3153: \n",
            " Recall@10: 0.1059 \n",
            " NDCG@10: 0.4075\n"
          ],
          "name": "stdout"
        },
        {
          "output_type": "stream",
          "text": [
            "/usr/local/lib/python3.6/dist-packages/torch/nn/modules/container.py:550: UserWarning: Setting attributes on ParameterDict is not supported.\n",
            "  warnings.warn(\"Setting attributes on ParameterDict is not supported.\")\n"
          ],
          "name": "stderr"
        },
        {
          "output_type": "stream",
          "text": [
            "Epoch: 31, Training time: 4.49s, Loss: 24.1162\n",
            "Evaluate current model:\n",
            " Epoch: 31, Validation time: 1.14s \n",
            " Loss: 24.1162: \n",
            " Recall@10: 0.0983 \n",
            " NDCG@10: 0.4054\n"
          ],
          "name": "stdout"
        },
        {
          "output_type": "stream",
          "text": [
            "/usr/local/lib/python3.6/dist-packages/torch/nn/modules/container.py:550: UserWarning: Setting attributes on ParameterDict is not supported.\n",
            "  warnings.warn(\"Setting attributes on ParameterDict is not supported.\")\n"
          ],
          "name": "stderr"
        },
        {
          "output_type": "stream",
          "text": [
            "Epoch: 32, Training time: 4.38s, Loss: 23.9597\n",
            "Evaluate current model:\n",
            " Epoch: 32, Validation time: 1.13s \n",
            " Loss: 23.9597: \n",
            " Recall@10: 0.1086 \n",
            " NDCG@10: 0.4197\n"
          ],
          "name": "stdout"
        },
        {
          "output_type": "stream",
          "text": [
            "/usr/local/lib/python3.6/dist-packages/torch/nn/modules/container.py:550: UserWarning: Setting attributes on ParameterDict is not supported.\n",
            "  warnings.warn(\"Setting attributes on ParameterDict is not supported.\")\n"
          ],
          "name": "stderr"
        },
        {
          "output_type": "stream",
          "text": [
            "Epoch: 33, Training time: 4.32s, Loss: 23.8884\n",
            "Evaluate current model:\n",
            " Epoch: 33, Validation time: 1.11s \n",
            " Loss: 23.8884: \n",
            " Recall@10: 0.1091 \n",
            " NDCG@10: 0.4170\n"
          ],
          "name": "stdout"
        },
        {
          "output_type": "stream",
          "text": [
            "/usr/local/lib/python3.6/dist-packages/torch/nn/modules/container.py:550: UserWarning: Setting attributes on ParameterDict is not supported.\n",
            "  warnings.warn(\"Setting attributes on ParameterDict is not supported.\")\n"
          ],
          "name": "stderr"
        },
        {
          "output_type": "stream",
          "text": [
            "Epoch: 34, Training time: 4.29s, Loss: 23.9479\n",
            "Evaluate current model:\n",
            " Epoch: 34, Validation time: 1.13s \n",
            " Loss: 23.9479: \n",
            " Recall@10: 0.1063 \n",
            " NDCG@10: 0.4214\n"
          ],
          "name": "stdout"
        },
        {
          "output_type": "stream",
          "text": [
            "/usr/local/lib/python3.6/dist-packages/torch/nn/modules/container.py:550: UserWarning: Setting attributes on ParameterDict is not supported.\n",
            "  warnings.warn(\"Setting attributes on ParameterDict is not supported.\")\n"
          ],
          "name": "stderr"
        },
        {
          "output_type": "stream",
          "text": [
            "Epoch: 35, Training time: 4.12s, Loss: 23.5901\n",
            "Evaluate current model:\n",
            " Epoch: 35, Validation time: 1.12s \n",
            " Loss: 23.5901: \n",
            " Recall@10: 0.1120 \n",
            " NDCG@10: 0.4283\n"
          ],
          "name": "stdout"
        },
        {
          "output_type": "stream",
          "text": [
            "/usr/local/lib/python3.6/dist-packages/torch/nn/modules/container.py:550: UserWarning: Setting attributes on ParameterDict is not supported.\n",
            "  warnings.warn(\"Setting attributes on ParameterDict is not supported.\")\n"
          ],
          "name": "stderr"
        },
        {
          "output_type": "stream",
          "text": [
            "Epoch: 36, Training time: 4.18s, Loss: 23.5599\n",
            "Evaluate current model:\n",
            " Epoch: 36, Validation time: 1.15s \n",
            " Loss: 23.5599: \n",
            " Recall@10: 0.1074 \n",
            " NDCG@10: 0.4257\n"
          ],
          "name": "stdout"
        },
        {
          "output_type": "stream",
          "text": [
            "/usr/local/lib/python3.6/dist-packages/torch/nn/modules/container.py:550: UserWarning: Setting attributes on ParameterDict is not supported.\n",
            "  warnings.warn(\"Setting attributes on ParameterDict is not supported.\")\n"
          ],
          "name": "stderr"
        },
        {
          "output_type": "stream",
          "text": [
            "Epoch: 37, Training time: 4.04s, Loss: 23.4794\n",
            "Evaluate current model:\n",
            " Epoch: 37, Validation time: 1.12s \n",
            " Loss: 23.4794: \n",
            " Recall@10: 0.1207 \n",
            " NDCG@10: 0.4453\n"
          ],
          "name": "stdout"
        },
        {
          "output_type": "stream",
          "text": [
            "/usr/local/lib/python3.6/dist-packages/torch/nn/modules/container.py:550: UserWarning: Setting attributes on ParameterDict is not supported.\n",
            "  warnings.warn(\"Setting attributes on ParameterDict is not supported.\")\n"
          ],
          "name": "stderr"
        },
        {
          "output_type": "stream",
          "text": [
            "Epoch: 38, Training time: 4.18s, Loss: 23.2912\n",
            "Evaluate current model:\n",
            " Epoch: 38, Validation time: 1.13s \n",
            " Loss: 23.2912: \n",
            " Recall@10: 0.1274 \n",
            " NDCG@10: 0.4586\n"
          ],
          "name": "stdout"
        },
        {
          "output_type": "stream",
          "text": [
            "/usr/local/lib/python3.6/dist-packages/torch/nn/modules/container.py:550: UserWarning: Setting attributes on ParameterDict is not supported.\n",
            "  warnings.warn(\"Setting attributes on ParameterDict is not supported.\")\n"
          ],
          "name": "stderr"
        },
        {
          "output_type": "stream",
          "text": [
            "Epoch: 39, Training time: 4.20s, Loss: 23.2236\n",
            "Evaluate current model:\n",
            " Epoch: 39, Validation time: 1.14s \n",
            " Loss: 23.2236: \n",
            " Recall@10: 0.1238 \n",
            " NDCG@10: 0.4596\n"
          ],
          "name": "stdout"
        },
        {
          "output_type": "stream",
          "text": [
            "/usr/local/lib/python3.6/dist-packages/torch/nn/modules/container.py:550: UserWarning: Setting attributes on ParameterDict is not supported.\n",
            "  warnings.warn(\"Setting attributes on ParameterDict is not supported.\")\n"
          ],
          "name": "stderr"
        },
        {
          "output_type": "stream",
          "text": [
            "Epoch: 40, Training time: 4.60s, Loss: 23.1948\n",
            "Evaluate current model:\n",
            " Epoch: 40, Validation time: 1.11s \n",
            " Loss: 23.1948: \n",
            " Recall@10: 0.1304 \n",
            " NDCG@10: 0.4581\n"
          ],
          "name": "stdout"
        },
        {
          "output_type": "stream",
          "text": [
            "/usr/local/lib/python3.6/dist-packages/torch/nn/modules/container.py:550: UserWarning: Setting attributes on ParameterDict is not supported.\n",
            "  warnings.warn(\"Setting attributes on ParameterDict is not supported.\")\n"
          ],
          "name": "stderr"
        },
        {
          "output_type": "stream",
          "text": [
            "Epoch: 41, Training time: 4.35s, Loss: 22.7165\n",
            "Evaluate current model:\n",
            " Epoch: 41, Validation time: 1.13s \n",
            " Loss: 22.7165: \n",
            " Recall@10: 0.1314 \n",
            " NDCG@10: 0.4592\n"
          ],
          "name": "stdout"
        },
        {
          "output_type": "stream",
          "text": [
            "/usr/local/lib/python3.6/dist-packages/torch/nn/modules/container.py:550: UserWarning: Setting attributes on ParameterDict is not supported.\n",
            "  warnings.warn(\"Setting attributes on ParameterDict is not supported.\")\n"
          ],
          "name": "stderr"
        },
        {
          "output_type": "stream",
          "text": [
            "Epoch: 42, Training time: 4.21s, Loss: 22.7314\n",
            "Evaluate current model:\n",
            " Epoch: 42, Validation time: 1.13s \n",
            " Loss: 22.7314: \n",
            " Recall@10: 0.1208 \n",
            " NDCG@10: 0.4607\n"
          ],
          "name": "stdout"
        },
        {
          "output_type": "stream",
          "text": [
            "/usr/local/lib/python3.6/dist-packages/torch/nn/modules/container.py:550: UserWarning: Setting attributes on ParameterDict is not supported.\n",
            "  warnings.warn(\"Setting attributes on ParameterDict is not supported.\")\n"
          ],
          "name": "stderr"
        },
        {
          "output_type": "stream",
          "text": [
            "Epoch: 43, Training time: 4.38s, Loss: 22.6795\n",
            "Evaluate current model:\n",
            " Epoch: 43, Validation time: 1.13s \n",
            " Loss: 22.6795: \n",
            " Recall@10: 0.1345 \n",
            " NDCG@10: 0.4654\n"
          ],
          "name": "stdout"
        },
        {
          "output_type": "stream",
          "text": [
            "/usr/local/lib/python3.6/dist-packages/torch/nn/modules/container.py:550: UserWarning: Setting attributes on ParameterDict is not supported.\n",
            "  warnings.warn(\"Setting attributes on ParameterDict is not supported.\")\n"
          ],
          "name": "stderr"
        },
        {
          "output_type": "stream",
          "text": [
            "Epoch: 44, Training time: 4.19s, Loss: 22.6807\n",
            "Evaluate current model:\n",
            " Epoch: 44, Validation time: 1.16s \n",
            " Loss: 22.6807: \n",
            " Recall@10: 0.1311 \n",
            " NDCG@10: 0.4716\n"
          ],
          "name": "stdout"
        },
        {
          "output_type": "stream",
          "text": [
            "/usr/local/lib/python3.6/dist-packages/torch/nn/modules/container.py:550: UserWarning: Setting attributes on ParameterDict is not supported.\n",
            "  warnings.warn(\"Setting attributes on ParameterDict is not supported.\")\n"
          ],
          "name": "stderr"
        },
        {
          "output_type": "stream",
          "text": [
            "Epoch: 45, Training time: 4.02s, Loss: 22.4766\n",
            "Evaluate current model:\n",
            " Epoch: 45, Validation time: 1.15s \n",
            " Loss: 22.4766: \n",
            " Recall@10: 0.1298 \n",
            " NDCG@10: 0.4707\n"
          ],
          "name": "stdout"
        },
        {
          "output_type": "stream",
          "text": [
            "/usr/local/lib/python3.6/dist-packages/torch/nn/modules/container.py:550: UserWarning: Setting attributes on ParameterDict is not supported.\n",
            "  warnings.warn(\"Setting attributes on ParameterDict is not supported.\")\n"
          ],
          "name": "stderr"
        },
        {
          "output_type": "stream",
          "text": [
            "Epoch: 46, Training time: 4.20s, Loss: 22.4799\n",
            "Evaluate current model:\n",
            " Epoch: 46, Validation time: 1.15s \n",
            " Loss: 22.4799: \n",
            " Recall@10: 0.1311 \n",
            " NDCG@10: 0.4831\n"
          ],
          "name": "stdout"
        },
        {
          "output_type": "stream",
          "text": [
            "/usr/local/lib/python3.6/dist-packages/torch/nn/modules/container.py:550: UserWarning: Setting attributes on ParameterDict is not supported.\n",
            "  warnings.warn(\"Setting attributes on ParameterDict is not supported.\")\n"
          ],
          "name": "stderr"
        },
        {
          "output_type": "stream",
          "text": [
            "Epoch: 47, Training time: 4.39s, Loss: 22.3081\n",
            "Evaluate current model:\n",
            " Epoch: 47, Validation time: 1.16s \n",
            " Loss: 22.3081: \n",
            " Recall@10: 0.1380 \n",
            " NDCG@10: 0.4998\n"
          ],
          "name": "stdout"
        },
        {
          "output_type": "stream",
          "text": [
            "/usr/local/lib/python3.6/dist-packages/torch/nn/modules/container.py:550: UserWarning: Setting attributes on ParameterDict is not supported.\n",
            "  warnings.warn(\"Setting attributes on ParameterDict is not supported.\")\n"
          ],
          "name": "stderr"
        },
        {
          "output_type": "stream",
          "text": [
            "Epoch: 48, Training time: 4.37s, Loss: 22.0237\n",
            "Evaluate current model:\n",
            " Epoch: 48, Validation time: 1.12s \n",
            " Loss: 22.0237: \n",
            " Recall@10: 0.1390 \n",
            " NDCG@10: 0.5023\n"
          ],
          "name": "stdout"
        },
        {
          "output_type": "stream",
          "text": [
            "/usr/local/lib/python3.6/dist-packages/torch/nn/modules/container.py:550: UserWarning: Setting attributes on ParameterDict is not supported.\n",
            "  warnings.warn(\"Setting attributes on ParameterDict is not supported.\")\n"
          ],
          "name": "stderr"
        },
        {
          "output_type": "stream",
          "text": [
            "Epoch: 49, Training time: 4.24s, Loss: 22.0896\n",
            "Evaluate current model:\n",
            " Epoch: 49, Validation time: 1.13s \n",
            " Loss: 22.0896: \n",
            " Recall@10: 0.1341 \n",
            " NDCG@10: 0.4846\n"
          ],
          "name": "stdout"
        },
        {
          "output_type": "stream",
          "text": [
            "/usr/local/lib/python3.6/dist-packages/torch/nn/modules/container.py:550: UserWarning: Setting attributes on ParameterDict is not supported.\n",
            "  warnings.warn(\"Setting attributes on ParameterDict is not supported.\")\n"
          ],
          "name": "stderr"
        },
        {
          "output_type": "stream",
          "text": [
            "Epoch: 50, Training time: 4.14s, Loss: 21.9872\n",
            "Evaluate current model:\n",
            " Epoch: 50, Validation time: 1.15s \n",
            " Loss: 21.9872: \n",
            " Recall@10: 0.1376 \n",
            " NDCG@10: 0.5019\n"
          ],
          "name": "stdout"
        },
        {
          "output_type": "stream",
          "text": [
            "/usr/local/lib/python3.6/dist-packages/torch/nn/modules/container.py:550: UserWarning: Setting attributes on ParameterDict is not supported.\n",
            "  warnings.warn(\"Setting attributes on ParameterDict is not supported.\")\n"
          ],
          "name": "stderr"
        },
        {
          "output_type": "stream",
          "text": [
            "Epoch: 51, Training time: 4.09s, Loss: 21.9160\n",
            "Evaluate current model:\n",
            " Epoch: 51, Validation time: 1.13s \n",
            " Loss: 21.9160: \n",
            " Recall@10: 0.1366 \n",
            " NDCG@10: 0.5022\n"
          ],
          "name": "stdout"
        },
        {
          "output_type": "stream",
          "text": [
            "/usr/local/lib/python3.6/dist-packages/torch/nn/modules/container.py:550: UserWarning: Setting attributes on ParameterDict is not supported.\n",
            "  warnings.warn(\"Setting attributes on ParameterDict is not supported.\")\n"
          ],
          "name": "stderr"
        },
        {
          "output_type": "stream",
          "text": [
            "Epoch: 52, Training time: 4.17s, Loss: 21.6302\n",
            "Evaluate current model:\n",
            " Epoch: 52, Validation time: 1.14s \n",
            " Loss: 21.6302: \n",
            " Recall@10: 0.1433 \n",
            " NDCG@10: 0.5246\n"
          ],
          "name": "stdout"
        },
        {
          "output_type": "stream",
          "text": [
            "/usr/local/lib/python3.6/dist-packages/torch/nn/modules/container.py:550: UserWarning: Setting attributes on ParameterDict is not supported.\n",
            "  warnings.warn(\"Setting attributes on ParameterDict is not supported.\")\n"
          ],
          "name": "stderr"
        },
        {
          "output_type": "stream",
          "text": [
            "Epoch: 53, Training time: 4.21s, Loss: 21.7743\n",
            "Evaluate current model:\n",
            " Epoch: 53, Validation time: 1.13s \n",
            " Loss: 21.7743: \n",
            " Recall@10: 0.1431 \n",
            " NDCG@10: 0.5203\n"
          ],
          "name": "stdout"
        },
        {
          "output_type": "stream",
          "text": [
            "/usr/local/lib/python3.6/dist-packages/torch/nn/modules/container.py:550: UserWarning: Setting attributes on ParameterDict is not supported.\n",
            "  warnings.warn(\"Setting attributes on ParameterDict is not supported.\")\n"
          ],
          "name": "stderr"
        },
        {
          "output_type": "stream",
          "text": [
            "Epoch: 54, Training time: 4.43s, Loss: 21.4978\n",
            "Evaluate current model:\n",
            " Epoch: 54, Validation time: 1.11s \n",
            " Loss: 21.4978: \n",
            " Recall@10: 0.1437 \n",
            " NDCG@10: 0.5186\n"
          ],
          "name": "stdout"
        },
        {
          "output_type": "stream",
          "text": [
            "/usr/local/lib/python3.6/dist-packages/torch/nn/modules/container.py:550: UserWarning: Setting attributes on ParameterDict is not supported.\n",
            "  warnings.warn(\"Setting attributes on ParameterDict is not supported.\")\n"
          ],
          "name": "stderr"
        },
        {
          "output_type": "stream",
          "text": [
            "Epoch: 55, Training time: 4.38s, Loss: 21.4471\n",
            "Evaluate current model:\n",
            " Epoch: 55, Validation time: 1.12s \n",
            " Loss: 21.4471: \n",
            " Recall@10: 0.1422 \n",
            " NDCG@10: 0.5163\n"
          ],
          "name": "stdout"
        },
        {
          "output_type": "stream",
          "text": [
            "/usr/local/lib/python3.6/dist-packages/torch/nn/modules/container.py:550: UserWarning: Setting attributes on ParameterDict is not supported.\n",
            "  warnings.warn(\"Setting attributes on ParameterDict is not supported.\")\n"
          ],
          "name": "stderr"
        },
        {
          "output_type": "stream",
          "text": [
            "Epoch: 56, Training time: 4.17s, Loss: 21.2139\n",
            "Evaluate current model:\n",
            " Epoch: 56, Validation time: 1.13s \n",
            " Loss: 21.2139: \n",
            " Recall@10: 0.1455 \n",
            " NDCG@10: 0.5179\n"
          ],
          "name": "stdout"
        },
        {
          "output_type": "stream",
          "text": [
            "/usr/local/lib/python3.6/dist-packages/torch/nn/modules/container.py:550: UserWarning: Setting attributes on ParameterDict is not supported.\n",
            "  warnings.warn(\"Setting attributes on ParameterDict is not supported.\")\n"
          ],
          "name": "stderr"
        },
        {
          "output_type": "stream",
          "text": [
            "Epoch: 57, Training time: 4.22s, Loss: 21.2633\n",
            "Evaluate current model:\n",
            " Epoch: 57, Validation time: 1.15s \n",
            " Loss: 21.2633: \n",
            " Recall@10: 0.1463 \n",
            " NDCG@10: 0.5256\n"
          ],
          "name": "stdout"
        },
        {
          "output_type": "stream",
          "text": [
            "/usr/local/lib/python3.6/dist-packages/torch/nn/modules/container.py:550: UserWarning: Setting attributes on ParameterDict is not supported.\n",
            "  warnings.warn(\"Setting attributes on ParameterDict is not supported.\")\n"
          ],
          "name": "stderr"
        },
        {
          "output_type": "stream",
          "text": [
            "Epoch: 58, Training time: 4.42s, Loss: 21.2160\n",
            "Evaluate current model:\n",
            " Epoch: 58, Validation time: 1.14s \n",
            " Loss: 21.2160: \n",
            " Recall@10: 0.1466 \n",
            " NDCG@10: 0.5245\n"
          ],
          "name": "stdout"
        },
        {
          "output_type": "stream",
          "text": [
            "/usr/local/lib/python3.6/dist-packages/torch/nn/modules/container.py:550: UserWarning: Setting attributes on ParameterDict is not supported.\n",
            "  warnings.warn(\"Setting attributes on ParameterDict is not supported.\")\n"
          ],
          "name": "stderr"
        },
        {
          "output_type": "stream",
          "text": [
            "Epoch: 59, Training time: 4.11s, Loss: 21.1629\n",
            "Evaluate current model:\n",
            " Epoch: 59, Validation time: 1.14s \n",
            " Loss: 21.1629: \n",
            " Recall@10: 0.1476 \n",
            " NDCG@10: 0.5375\n"
          ],
          "name": "stdout"
        },
        {
          "output_type": "stream",
          "text": [
            "/usr/local/lib/python3.6/dist-packages/torch/nn/modules/container.py:550: UserWarning: Setting attributes on ParameterDict is not supported.\n",
            "  warnings.warn(\"Setting attributes on ParameterDict is not supported.\")\n"
          ],
          "name": "stderr"
        },
        {
          "output_type": "stream",
          "text": [
            "Epoch: 60, Training time: 4.19s, Loss: 21.1346\n",
            "Evaluate current model:\n",
            " Epoch: 60, Validation time: 1.12s \n",
            " Loss: 21.1346: \n",
            " Recall@10: 0.1521 \n",
            " NDCG@10: 0.5279\n"
          ],
          "name": "stdout"
        },
        {
          "output_type": "stream",
          "text": [
            "/usr/local/lib/python3.6/dist-packages/torch/nn/modules/container.py:550: UserWarning: Setting attributes on ParameterDict is not supported.\n",
            "  warnings.warn(\"Setting attributes on ParameterDict is not supported.\")\n"
          ],
          "name": "stderr"
        },
        {
          "output_type": "stream",
          "text": [
            "Epoch: 61, Training time: 4.43s, Loss: 20.9031\n",
            "Evaluate current model:\n",
            " Epoch: 61, Validation time: 1.14s \n",
            " Loss: 20.9031: \n",
            " Recall@10: 0.1512 \n",
            " NDCG@10: 0.5313\n"
          ],
          "name": "stdout"
        },
        {
          "output_type": "stream",
          "text": [
            "/usr/local/lib/python3.6/dist-packages/torch/nn/modules/container.py:550: UserWarning: Setting attributes on ParameterDict is not supported.\n",
            "  warnings.warn(\"Setting attributes on ParameterDict is not supported.\")\n"
          ],
          "name": "stderr"
        },
        {
          "output_type": "stream",
          "text": [
            "Epoch: 62, Training time: 4.35s, Loss: 20.7512\n",
            "Evaluate current model:\n",
            " Epoch: 62, Validation time: 1.14s \n",
            " Loss: 20.7512: \n",
            " Recall@10: 0.1482 \n",
            " NDCG@10: 0.5146\n"
          ],
          "name": "stdout"
        },
        {
          "output_type": "stream",
          "text": [
            "/usr/local/lib/python3.6/dist-packages/torch/nn/modules/container.py:550: UserWarning: Setting attributes on ParameterDict is not supported.\n",
            "  warnings.warn(\"Setting attributes on ParameterDict is not supported.\")\n"
          ],
          "name": "stderr"
        },
        {
          "output_type": "stream",
          "text": [
            "Epoch: 63, Training time: 4.32s, Loss: 20.9944\n",
            "Evaluate current model:\n",
            " Epoch: 63, Validation time: 1.13s \n",
            " Loss: 20.9944: \n",
            " Recall@10: 0.1524 \n",
            " NDCG@10: 0.5348\n"
          ],
          "name": "stdout"
        },
        {
          "output_type": "stream",
          "text": [
            "/usr/local/lib/python3.6/dist-packages/torch/nn/modules/container.py:550: UserWarning: Setting attributes on ParameterDict is not supported.\n",
            "  warnings.warn(\"Setting attributes on ParameterDict is not supported.\")\n"
          ],
          "name": "stderr"
        },
        {
          "output_type": "stream",
          "text": [
            "Epoch: 64, Training time: 4.23s, Loss: 20.7634\n",
            "Evaluate current model:\n",
            " Epoch: 64, Validation time: 1.15s \n",
            " Loss: 20.7634: \n",
            " Recall@10: 0.1509 \n",
            " NDCG@10: 0.5337\n"
          ],
          "name": "stdout"
        },
        {
          "output_type": "stream",
          "text": [
            "/usr/local/lib/python3.6/dist-packages/torch/nn/modules/container.py:550: UserWarning: Setting attributes on ParameterDict is not supported.\n",
            "  warnings.warn(\"Setting attributes on ParameterDict is not supported.\")\n"
          ],
          "name": "stderr"
        },
        {
          "output_type": "stream",
          "text": [
            "Epoch: 65, Training time: 4.24s, Loss: 20.6860\n",
            "Evaluate current model:\n",
            " Epoch: 65, Validation time: 1.19s \n",
            " Loss: 20.6860: \n",
            " Recall@10: 0.1507 \n",
            " NDCG@10: 0.5364\n"
          ],
          "name": "stdout"
        },
        {
          "output_type": "stream",
          "text": [
            "/usr/local/lib/python3.6/dist-packages/torch/nn/modules/container.py:550: UserWarning: Setting attributes on ParameterDict is not supported.\n",
            "  warnings.warn(\"Setting attributes on ParameterDict is not supported.\")\n"
          ],
          "name": "stderr"
        },
        {
          "output_type": "stream",
          "text": [
            "Epoch: 66, Training time: 4.18s, Loss: 20.4324\n",
            "Evaluate current model:\n",
            " Epoch: 66, Validation time: 1.17s \n",
            " Loss: 20.4324: \n",
            " Recall@10: 0.1544 \n",
            " NDCG@10: 0.5280\n"
          ],
          "name": "stdout"
        },
        {
          "output_type": "stream",
          "text": [
            "/usr/local/lib/python3.6/dist-packages/torch/nn/modules/container.py:550: UserWarning: Setting attributes on ParameterDict is not supported.\n",
            "  warnings.warn(\"Setting attributes on ParameterDict is not supported.\")\n"
          ],
          "name": "stderr"
        },
        {
          "output_type": "stream",
          "text": [
            "Epoch: 67, Training time: 4.47s, Loss: 20.3202\n",
            "Evaluate current model:\n",
            " Epoch: 67, Validation time: 1.12s \n",
            " Loss: 20.3202: \n",
            " Recall@10: 0.1556 \n",
            " NDCG@10: 0.5422\n"
          ],
          "name": "stdout"
        },
        {
          "output_type": "stream",
          "text": [
            "/usr/local/lib/python3.6/dist-packages/torch/nn/modules/container.py:550: UserWarning: Setting attributes on ParameterDict is not supported.\n",
            "  warnings.warn(\"Setting attributes on ParameterDict is not supported.\")\n"
          ],
          "name": "stderr"
        },
        {
          "output_type": "stream",
          "text": [
            "Epoch: 68, Training time: 4.18s, Loss: 20.4694\n",
            "Evaluate current model:\n",
            " Epoch: 68, Validation time: 1.12s \n",
            " Loss: 20.4694: \n",
            " Recall@10: 0.1569 \n",
            " NDCG@10: 0.5464\n"
          ],
          "name": "stdout"
        },
        {
          "output_type": "stream",
          "text": [
            "/usr/local/lib/python3.6/dist-packages/torch/nn/modules/container.py:550: UserWarning: Setting attributes on ParameterDict is not supported.\n",
            "  warnings.warn(\"Setting attributes on ParameterDict is not supported.\")\n"
          ],
          "name": "stderr"
        },
        {
          "output_type": "stream",
          "text": [
            "Epoch: 69, Training time: 4.47s, Loss: 20.2546\n",
            "Evaluate current model:\n",
            " Epoch: 69, Validation time: 1.14s \n",
            " Loss: 20.2546: \n",
            " Recall@10: 0.1603 \n",
            " NDCG@10: 0.5523\n"
          ],
          "name": "stdout"
        },
        {
          "output_type": "stream",
          "text": [
            "/usr/local/lib/python3.6/dist-packages/torch/nn/modules/container.py:550: UserWarning: Setting attributes on ParameterDict is not supported.\n",
            "  warnings.warn(\"Setting attributes on ParameterDict is not supported.\")\n"
          ],
          "name": "stderr"
        },
        {
          "output_type": "stream",
          "text": [
            "Epoch: 70, Training time: 4.39s, Loss: 20.3144\n",
            "Evaluate current model:\n",
            " Epoch: 70, Validation time: 1.11s \n",
            " Loss: 20.3144: \n",
            " Recall@10: 0.1590 \n",
            " NDCG@10: 0.5406\n"
          ],
          "name": "stdout"
        },
        {
          "output_type": "stream",
          "text": [
            "/usr/local/lib/python3.6/dist-packages/torch/nn/modules/container.py:550: UserWarning: Setting attributes on ParameterDict is not supported.\n",
            "  warnings.warn(\"Setting attributes on ParameterDict is not supported.\")\n"
          ],
          "name": "stderr"
        },
        {
          "output_type": "stream",
          "text": [
            "Epoch: 71, Training time: 4.13s, Loss: 19.9786\n",
            "Evaluate current model:\n",
            " Epoch: 71, Validation time: 1.11s \n",
            " Loss: 19.9786: \n",
            " Recall@10: 0.1562 \n",
            " NDCG@10: 0.5489\n"
          ],
          "name": "stdout"
        },
        {
          "output_type": "stream",
          "text": [
            "/usr/local/lib/python3.6/dist-packages/torch/nn/modules/container.py:550: UserWarning: Setting attributes on ParameterDict is not supported.\n",
            "  warnings.warn(\"Setting attributes on ParameterDict is not supported.\")\n"
          ],
          "name": "stderr"
        },
        {
          "output_type": "stream",
          "text": [
            "Epoch: 72, Training time: 4.41s, Loss: 19.8977\n",
            "Evaluate current model:\n",
            " Epoch: 72, Validation time: 1.14s \n",
            " Loss: 19.8977: \n",
            " Recall@10: 0.1614 \n",
            " NDCG@10: 0.5623\n"
          ],
          "name": "stdout"
        },
        {
          "output_type": "stream",
          "text": [
            "/usr/local/lib/python3.6/dist-packages/torch/nn/modules/container.py:550: UserWarning: Setting attributes on ParameterDict is not supported.\n",
            "  warnings.warn(\"Setting attributes on ParameterDict is not supported.\")\n"
          ],
          "name": "stderr"
        },
        {
          "output_type": "stream",
          "text": [
            "Epoch: 73, Training time: 4.20s, Loss: 20.1384\n",
            "Evaluate current model:\n",
            " Epoch: 73, Validation time: 1.13s \n",
            " Loss: 20.1384: \n",
            " Recall@10: 0.1602 \n",
            " NDCG@10: 0.5556\n"
          ],
          "name": "stdout"
        },
        {
          "output_type": "stream",
          "text": [
            "/usr/local/lib/python3.6/dist-packages/torch/nn/modules/container.py:550: UserWarning: Setting attributes on ParameterDict is not supported.\n",
            "  warnings.warn(\"Setting attributes on ParameterDict is not supported.\")\n"
          ],
          "name": "stderr"
        },
        {
          "output_type": "stream",
          "text": [
            "Epoch: 74, Training time: 4.12s, Loss: 19.8452\n",
            "Evaluate current model:\n",
            " Epoch: 74, Validation time: 1.12s \n",
            " Loss: 19.8452: \n",
            " Recall@10: 0.1623 \n",
            " NDCG@10: 0.5625\n"
          ],
          "name": "stdout"
        },
        {
          "output_type": "stream",
          "text": [
            "/usr/local/lib/python3.6/dist-packages/torch/nn/modules/container.py:550: UserWarning: Setting attributes on ParameterDict is not supported.\n",
            "  warnings.warn(\"Setting attributes on ParameterDict is not supported.\")\n"
          ],
          "name": "stderr"
        },
        {
          "output_type": "stream",
          "text": [
            "Epoch: 75, Training time: 4.13s, Loss: 19.6446\n",
            "Evaluate current model:\n",
            " Epoch: 75, Validation time: 1.13s \n",
            " Loss: 19.6446: \n",
            " Recall@10: 0.1636 \n",
            " NDCG@10: 0.5655\n"
          ],
          "name": "stdout"
        },
        {
          "output_type": "stream",
          "text": [
            "/usr/local/lib/python3.6/dist-packages/torch/nn/modules/container.py:550: UserWarning: Setting attributes on ParameterDict is not supported.\n",
            "  warnings.warn(\"Setting attributes on ParameterDict is not supported.\")\n"
          ],
          "name": "stderr"
        },
        {
          "output_type": "stream",
          "text": [
            "Epoch: 76, Training time: 4.26s, Loss: 19.6461\n",
            "Evaluate current model:\n",
            " Epoch: 76, Validation time: 1.16s \n",
            " Loss: 19.6461: \n",
            " Recall@10: 0.1661 \n",
            " NDCG@10: 0.5653\n"
          ],
          "name": "stdout"
        },
        {
          "output_type": "stream",
          "text": [
            "/usr/local/lib/python3.6/dist-packages/torch/nn/modules/container.py:550: UserWarning: Setting attributes on ParameterDict is not supported.\n",
            "  warnings.warn(\"Setting attributes on ParameterDict is not supported.\")\n"
          ],
          "name": "stderr"
        },
        {
          "output_type": "stream",
          "text": [
            "Epoch: 77, Training time: 4.47s, Loss: 19.4810\n",
            "Evaluate current model:\n",
            " Epoch: 77, Validation time: 1.15s \n",
            " Loss: 19.4810: \n",
            " Recall@10: 0.1646 \n",
            " NDCG@10: 0.5616\n"
          ],
          "name": "stdout"
        },
        {
          "output_type": "stream",
          "text": [
            "/usr/local/lib/python3.6/dist-packages/torch/nn/modules/container.py:550: UserWarning: Setting attributes on ParameterDict is not supported.\n",
            "  warnings.warn(\"Setting attributes on ParameterDict is not supported.\")\n"
          ],
          "name": "stderr"
        },
        {
          "output_type": "stream",
          "text": [
            "Epoch: 78, Training time: 4.27s, Loss: 19.3175\n",
            "Evaluate current model:\n",
            " Epoch: 78, Validation time: 1.12s \n",
            " Loss: 19.3175: \n",
            " Recall@10: 0.1651 \n",
            " NDCG@10: 0.5650\n"
          ],
          "name": "stdout"
        },
        {
          "output_type": "stream",
          "text": [
            "/usr/local/lib/python3.6/dist-packages/torch/nn/modules/container.py:550: UserWarning: Setting attributes on ParameterDict is not supported.\n",
            "  warnings.warn(\"Setting attributes on ParameterDict is not supported.\")\n"
          ],
          "name": "stderr"
        },
        {
          "output_type": "stream",
          "text": [
            "Epoch: 79, Training time: 4.34s, Loss: 19.3304\n",
            "Evaluate current model:\n",
            " Epoch: 79, Validation time: 1.13s \n",
            " Loss: 19.3304: \n",
            " Recall@10: 0.1681 \n",
            " NDCG@10: 0.5698\n"
          ],
          "name": "stdout"
        },
        {
          "output_type": "stream",
          "text": [
            "/usr/local/lib/python3.6/dist-packages/torch/nn/modules/container.py:550: UserWarning: Setting attributes on ParameterDict is not supported.\n",
            "  warnings.warn(\"Setting attributes on ParameterDict is not supported.\")\n"
          ],
          "name": "stderr"
        },
        {
          "output_type": "stream",
          "text": [
            "Epoch: 80, Training time: 4.26s, Loss: 19.1583\n",
            "Evaluate current model:\n",
            " Epoch: 80, Validation time: 1.11s \n",
            " Loss: 19.1583: \n",
            " Recall@10: 0.1676 \n",
            " NDCG@10: 0.5695\n"
          ],
          "name": "stdout"
        },
        {
          "output_type": "stream",
          "text": [
            "/usr/local/lib/python3.6/dist-packages/torch/nn/modules/container.py:550: UserWarning: Setting attributes on ParameterDict is not supported.\n",
            "  warnings.warn(\"Setting attributes on ParameterDict is not supported.\")\n"
          ],
          "name": "stderr"
        },
        {
          "output_type": "stream",
          "text": [
            "Epoch: 81, Training time: 4.18s, Loss: 19.0337\n",
            "Evaluate current model:\n",
            " Epoch: 81, Validation time: 1.14s \n",
            " Loss: 19.0337: \n",
            " Recall@10: 0.1720 \n",
            " NDCG@10: 0.5802\n"
          ],
          "name": "stdout"
        },
        {
          "output_type": "stream",
          "text": [
            "/usr/local/lib/python3.6/dist-packages/torch/nn/modules/container.py:550: UserWarning: Setting attributes on ParameterDict is not supported.\n",
            "  warnings.warn(\"Setting attributes on ParameterDict is not supported.\")\n"
          ],
          "name": "stderr"
        },
        {
          "output_type": "stream",
          "text": [
            "Epoch: 82, Training time: 4.15s, Loss: 19.0269\n",
            "Evaluate current model:\n",
            " Epoch: 82, Validation time: 1.13s \n",
            " Loss: 19.0269: \n",
            " Recall@10: 0.1671 \n",
            " NDCG@10: 0.5703\n"
          ],
          "name": "stdout"
        },
        {
          "output_type": "stream",
          "text": [
            "/usr/local/lib/python3.6/dist-packages/torch/nn/modules/container.py:550: UserWarning: Setting attributes on ParameterDict is not supported.\n",
            "  warnings.warn(\"Setting attributes on ParameterDict is not supported.\")\n"
          ],
          "name": "stderr"
        },
        {
          "output_type": "stream",
          "text": [
            "Epoch: 83, Training time: 4.49s, Loss: 19.0736\n",
            "Evaluate current model:\n",
            " Epoch: 83, Validation time: 1.13s \n",
            " Loss: 19.0736: \n",
            " Recall@10: 0.1700 \n",
            " NDCG@10: 0.5862\n"
          ],
          "name": "stdout"
        },
        {
          "output_type": "stream",
          "text": [
            "/usr/local/lib/python3.6/dist-packages/torch/nn/modules/container.py:550: UserWarning: Setting attributes on ParameterDict is not supported.\n",
            "  warnings.warn(\"Setting attributes on ParameterDict is not supported.\")\n"
          ],
          "name": "stderr"
        },
        {
          "output_type": "stream",
          "text": [
            "Epoch: 84, Training time: 4.24s, Loss: 18.8482\n",
            "Evaluate current model:\n",
            " Epoch: 84, Validation time: 1.13s \n",
            " Loss: 18.8482: \n",
            " Recall@10: 0.1698 \n",
            " NDCG@10: 0.5741\n"
          ],
          "name": "stdout"
        },
        {
          "output_type": "stream",
          "text": [
            "/usr/local/lib/python3.6/dist-packages/torch/nn/modules/container.py:550: UserWarning: Setting attributes on ParameterDict is not supported.\n",
            "  warnings.warn(\"Setting attributes on ParameterDict is not supported.\")\n"
          ],
          "name": "stderr"
        },
        {
          "output_type": "stream",
          "text": [
            "Epoch: 85, Training time: 4.49s, Loss: 18.7838\n",
            "Evaluate current model:\n",
            " Epoch: 85, Validation time: 1.11s \n",
            " Loss: 18.7838: \n",
            " Recall@10: 0.1718 \n",
            " NDCG@10: 0.5749\n"
          ],
          "name": "stdout"
        },
        {
          "output_type": "stream",
          "text": [
            "/usr/local/lib/python3.6/dist-packages/torch/nn/modules/container.py:550: UserWarning: Setting attributes on ParameterDict is not supported.\n",
            "  warnings.warn(\"Setting attributes on ParameterDict is not supported.\")\n"
          ],
          "name": "stderr"
        },
        {
          "output_type": "stream",
          "text": [
            "Epoch: 86, Training time: 4.36s, Loss: 18.5171\n",
            "Evaluate current model:\n",
            " Epoch: 86, Validation time: 1.13s \n",
            " Loss: 18.5171: \n",
            " Recall@10: 0.1728 \n",
            " NDCG@10: 0.5815\n"
          ],
          "name": "stdout"
        },
        {
          "output_type": "stream",
          "text": [
            "/usr/local/lib/python3.6/dist-packages/torch/nn/modules/container.py:550: UserWarning: Setting attributes on ParameterDict is not supported.\n",
            "  warnings.warn(\"Setting attributes on ParameterDict is not supported.\")\n"
          ],
          "name": "stderr"
        },
        {
          "output_type": "stream",
          "text": [
            "Epoch: 87, Training time: 4.20s, Loss: 18.4600\n",
            "Evaluate current model:\n",
            " Epoch: 87, Validation time: 1.11s \n",
            " Loss: 18.4600: \n",
            " Recall@10: 0.1759 \n",
            " NDCG@10: 0.5943\n"
          ],
          "name": "stdout"
        },
        {
          "output_type": "stream",
          "text": [
            "/usr/local/lib/python3.6/dist-packages/torch/nn/modules/container.py:550: UserWarning: Setting attributes on ParameterDict is not supported.\n",
            "  warnings.warn(\"Setting attributes on ParameterDict is not supported.\")\n"
          ],
          "name": "stderr"
        },
        {
          "output_type": "stream",
          "text": [
            "Epoch: 88, Training time: 4.23s, Loss: 18.7235\n",
            "Evaluate current model:\n",
            " Epoch: 88, Validation time: 1.11s \n",
            " Loss: 18.7235: \n",
            " Recall@10: 0.1735 \n",
            " NDCG@10: 0.5828\n"
          ],
          "name": "stdout"
        },
        {
          "output_type": "stream",
          "text": [
            "/usr/local/lib/python3.6/dist-packages/torch/nn/modules/container.py:550: UserWarning: Setting attributes on ParameterDict is not supported.\n",
            "  warnings.warn(\"Setting attributes on ParameterDict is not supported.\")\n"
          ],
          "name": "stderr"
        },
        {
          "output_type": "stream",
          "text": [
            "Epoch: 89, Training time: 4.37s, Loss: 18.4328\n",
            "Evaluate current model:\n",
            " Epoch: 89, Validation time: 1.11s \n",
            " Loss: 18.4328: \n",
            " Recall@10: 0.1752 \n",
            " NDCG@10: 0.5852\n"
          ],
          "name": "stdout"
        },
        {
          "output_type": "stream",
          "text": [
            "/usr/local/lib/python3.6/dist-packages/torch/nn/modules/container.py:550: UserWarning: Setting attributes on ParameterDict is not supported.\n",
            "  warnings.warn(\"Setting attributes on ParameterDict is not supported.\")\n"
          ],
          "name": "stderr"
        },
        {
          "output_type": "stream",
          "text": [
            "Epoch: 90, Training time: 4.27s, Loss: 18.1052\n",
            "Evaluate current model:\n",
            " Epoch: 90, Validation time: 1.14s \n",
            " Loss: 18.1052: \n",
            " Recall@10: 0.1770 \n",
            " NDCG@10: 0.5861\n"
          ],
          "name": "stdout"
        },
        {
          "output_type": "stream",
          "text": [
            "/usr/local/lib/python3.6/dist-packages/torch/nn/modules/container.py:550: UserWarning: Setting attributes on ParameterDict is not supported.\n",
            "  warnings.warn(\"Setting attributes on ParameterDict is not supported.\")\n"
          ],
          "name": "stderr"
        },
        {
          "output_type": "stream",
          "text": [
            "Epoch: 91, Training time: 4.33s, Loss: 18.1874\n",
            "Evaluate current model:\n",
            " Epoch: 91, Validation time: 1.15s \n",
            " Loss: 18.1874: \n",
            " Recall@10: 0.1757 \n",
            " NDCG@10: 0.5856\n"
          ],
          "name": "stdout"
        },
        {
          "output_type": "stream",
          "text": [
            "/usr/local/lib/python3.6/dist-packages/torch/nn/modules/container.py:550: UserWarning: Setting attributes on ParameterDict is not supported.\n",
            "  warnings.warn(\"Setting attributes on ParameterDict is not supported.\")\n"
          ],
          "name": "stderr"
        },
        {
          "output_type": "stream",
          "text": [
            "Epoch: 92, Training time: 4.36s, Loss: 18.0947\n",
            "Evaluate current model:\n",
            " Epoch: 92, Validation time: 1.13s \n",
            " Loss: 18.0947: \n",
            " Recall@10: 0.1801 \n",
            " NDCG@10: 0.5919\n"
          ],
          "name": "stdout"
        },
        {
          "output_type": "stream",
          "text": [
            "/usr/local/lib/python3.6/dist-packages/torch/nn/modules/container.py:550: UserWarning: Setting attributes on ParameterDict is not supported.\n",
            "  warnings.warn(\"Setting attributes on ParameterDict is not supported.\")\n"
          ],
          "name": "stderr"
        },
        {
          "output_type": "stream",
          "text": [
            "Epoch: 93, Training time: 4.14s, Loss: 18.1468\n",
            "Evaluate current model:\n",
            " Epoch: 93, Validation time: 1.12s \n",
            " Loss: 18.1468: \n",
            " Recall@10: 0.1797 \n",
            " NDCG@10: 0.5887\n"
          ],
          "name": "stdout"
        },
        {
          "output_type": "stream",
          "text": [
            "/usr/local/lib/python3.6/dist-packages/torch/nn/modules/container.py:550: UserWarning: Setting attributes on ParameterDict is not supported.\n",
            "  warnings.warn(\"Setting attributes on ParameterDict is not supported.\")\n"
          ],
          "name": "stderr"
        },
        {
          "output_type": "stream",
          "text": [
            "Epoch: 94, Training time: 4.32s, Loss: 18.0050\n",
            "Evaluate current model:\n",
            " Epoch: 94, Validation time: 1.13s \n",
            " Loss: 18.0050: \n",
            " Recall@10: 0.1821 \n",
            " NDCG@10: 0.5920\n"
          ],
          "name": "stdout"
        },
        {
          "output_type": "stream",
          "text": [
            "/usr/local/lib/python3.6/dist-packages/torch/nn/modules/container.py:550: UserWarning: Setting attributes on ParameterDict is not supported.\n",
            "  warnings.warn(\"Setting attributes on ParameterDict is not supported.\")\n"
          ],
          "name": "stderr"
        },
        {
          "output_type": "stream",
          "text": [
            "Epoch: 95, Training time: 4.24s, Loss: 17.8379\n",
            "Evaluate current model:\n",
            " Epoch: 95, Validation time: 1.12s \n",
            " Loss: 17.8379: \n",
            " Recall@10: 0.1755 \n",
            " NDCG@10: 0.5862\n"
          ],
          "name": "stdout"
        },
        {
          "output_type": "stream",
          "text": [
            "/usr/local/lib/python3.6/dist-packages/torch/nn/modules/container.py:550: UserWarning: Setting attributes on ParameterDict is not supported.\n",
            "  warnings.warn(\"Setting attributes on ParameterDict is not supported.\")\n"
          ],
          "name": "stderr"
        },
        {
          "output_type": "stream",
          "text": [
            "Epoch: 96, Training time: 4.23s, Loss: 17.7456\n",
            "Evaluate current model:\n",
            " Epoch: 96, Validation time: 1.15s \n",
            " Loss: 17.7456: \n",
            " Recall@10: 0.1789 \n",
            " NDCG@10: 0.5899\n"
          ],
          "name": "stdout"
        },
        {
          "output_type": "stream",
          "text": [
            "/usr/local/lib/python3.6/dist-packages/torch/nn/modules/container.py:550: UserWarning: Setting attributes on ParameterDict is not supported.\n",
            "  warnings.warn(\"Setting attributes on ParameterDict is not supported.\")\n"
          ],
          "name": "stderr"
        },
        {
          "output_type": "stream",
          "text": [
            "Epoch: 97, Training time: 4.32s, Loss: 17.8102\n",
            "Evaluate current model:\n",
            " Epoch: 97, Validation time: 1.12s \n",
            " Loss: 17.8102: \n",
            " Recall@10: 0.1784 \n",
            " NDCG@10: 0.5978\n"
          ],
          "name": "stdout"
        },
        {
          "output_type": "stream",
          "text": [
            "/usr/local/lib/python3.6/dist-packages/torch/nn/modules/container.py:550: UserWarning: Setting attributes on ParameterDict is not supported.\n",
            "  warnings.warn(\"Setting attributes on ParameterDict is not supported.\")\n"
          ],
          "name": "stderr"
        },
        {
          "output_type": "stream",
          "text": [
            "Epoch: 98, Training time: 4.06s, Loss: 17.4973\n",
            "Evaluate current model:\n",
            " Epoch: 98, Validation time: 1.13s \n",
            " Loss: 17.4973: \n",
            " Recall@10: 0.1787 \n",
            " NDCG@10: 0.5950\n"
          ],
          "name": "stdout"
        },
        {
          "output_type": "stream",
          "text": [
            "/usr/local/lib/python3.6/dist-packages/torch/nn/modules/container.py:550: UserWarning: Setting attributes on ParameterDict is not supported.\n",
            "  warnings.warn(\"Setting attributes on ParameterDict is not supported.\")\n"
          ],
          "name": "stderr"
        },
        {
          "output_type": "stream",
          "text": [
            "Epoch: 99, Training time: 4.14s, Loss: 17.6733\n",
            "Evaluate current model:\n",
            " Epoch: 99, Validation time: 1.12s \n",
            " Loss: 17.6733: \n",
            " Recall@10: 0.1788 \n",
            " NDCG@10: 0.5887\n",
            "Early stopping at step: 5 log:0.17875784635543823\n"
          ],
          "name": "stdout"
        },
        {
          "output_type": "display_data",
          "data": {
            "image/png": "[encoded data removed]",
            "text/plain": [
              "<Figure size 864x576 with 1 Axes>"
            ]
          },
          "metadata": {
            "tags": [],
            "needs_background": "light"
          }
        }
      ]
    },
    {
      "cell_type": "code",
      "metadata": {
        "id": "IgWFLo3kYB14"
      },
      "source": [
        ""
      ],
      "execution_count": null,
      "outputs": []
    }
  ]
}