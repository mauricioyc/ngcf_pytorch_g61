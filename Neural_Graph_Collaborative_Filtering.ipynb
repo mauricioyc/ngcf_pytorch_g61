{
  "nbformat": 4,
  "nbformat_minor": 0,
  "metadata": {
    "colab": {
      "name": "Neural Graph Collaborative Filtering.ipynb",
      "provenance": [],
      "mount_file_id": "https://github.com/mauricioyc/ngcf_pytorch_g61/blob/master/Neural_Graph_Collaborative_Filtering.ipynb",
      "authorship_tag": "ABX9TyMLtRDQg0T+MQ9JVx954qOq",
      "include_colab_link": true
    },
    "kernelspec": {
      "name": "python3",
      "display_name": "Python 3"
    },
    "accelerator": "GPU"
  },
  "cells": [
    {
      "cell_type": "markdown",
      "metadata": {
        "id": "view-in-github",
        "colab_type": "text"
      },
      "source": [
        "<a href=\"https://colab.research.google.com/github/mauricioyc/ngcf_pytorch_g61/blob/master/Neural_Graph_Collaborative_Filtering.ipynb\" target=\"_parent\"><img src=\"https://colab.research.google.com/assets/colab-badge.svg\" alt=\"Open In Colab\"/></a>"
      ]
    },
    {
      "cell_type": "markdown",
      "metadata": {
        "id": "Lf3PxZsZGouS"
      },
      "source": [
        "NGCF Implementation by https://github.com/metahexane/ngcf_pytorch_g61"
      ]
    },
    {
      "cell_type": "code",
      "metadata": {
        "id": "-5CB-1PeJL0w",
        "outputId": "a86dcc4c-c49a-492e-f539-3ff296ae7fd9",
        "colab": {
          "base_uri": "https://localhost:8080/"
        }
      },
      "source": [
        "from google.colab import drive\n",
        "drive.mount('/content/drive')"
      ],
      "execution_count": 1,
      "outputs": [
        {
          "output_type": "stream",
          "text": [
            "Drive already mounted at /content/drive; to attempt to forcibly remount, call drive.mount(\"/content/drive\", force_remount=True).\n"
          ],
          "name": "stdout"
        }
      ]
    },
    {
      "cell_type": "code",
      "metadata": {
        "id": "fytE_q3eMIhR",
        "outputId": "abf3917e-bca2-4c8e-be26-f12a050e0129",
        "colab": {
          "base_uri": "https://localhost:8080/"
        }
      },
      "source": [
        "import os\r\n",
        "source_path = \"drive/MyDrive/Machine Learning/git/ngcf_pytorch_g61\"\r\n",
        "os.listdir(\"drive/MyDrive/Machine Learning/git/ngcf_pytorch_g61\")"
      ],
      "execution_count": 2,
      "outputs": [
        {
          "output_type": "execute_result",
          "data": {
            "text/plain": [
              "['.git',\n",
              " 'Neural_Graph_Collaborative_Filtering.ipynb',\n",
              " 'utils',\n",
              " 'data',\n",
              " 'ngcf.py',\n",
              " 'README.md',\n",
              " 'run_ngcf.py',\n",
              " '__pycache__']"
            ]
          },
          "metadata": {
            "tags": []
          },
          "execution_count": 2
        }
      ]
    },
    {
      "cell_type": "code",
      "metadata": {
        "id": "JFsDQrEcJxYZ"
      },
      "source": [
        "import sys\r\n",
        "sys.path.insert(0,source_path)"
      ],
      "execution_count": 3,
      "outputs": []
    },
    {
      "cell_type": "code",
      "metadata": {
        "id": "BwFpIZxgKeGN"
      },
      "source": [
        "import pandas as pd\r\n",
        "\r\n",
        "from time import time\r\n",
        "from datetime import datetime\r\n",
        "\r\n",
        "from utils.load_data import Data\r\n",
        "from utils.parser import parse_args\r\n",
        "from utils.helper_functions import early_stopping,\\\r\n",
        "                                   train,\\\r\n",
        "                                   split_matrix,\\\r\n",
        "                                   compute_ndcg_k,\\\r\n",
        "                                   eval_model\r\n",
        "from ngcf import NGCF"
      ],
      "execution_count": 4,
      "outputs": []
    },
    {
      "cell_type": "code",
      "metadata": {
        "id": "Tr5BZG_QK483"
      },
      "source": [
        "import torch\r\n",
        "\r\n",
        "use_cuda = torch.cuda.is_available()\r\n",
        "device = torch.device(\"cuda\" if torch.cuda.is_available() else \"cpu\")\r\n",
        "torch.cuda.set_device(0)"
      ],
      "execution_count": 6,
      "outputs": []
    },
    {
      "cell_type": "code",
      "metadata": {
        "id": "_4_GIZB1Mn6T",
        "outputId": "f5d85181-a733-46f4-fce7-72c2ddf4850e",
        "colab": {
          "base_uri": "https://localhost:8080/",
          "height": 1000
        }
      },
      "source": [
        "data_dir = source_path+'/data/'\r\n",
        "# dataset = 'Gowella'\r\n",
        "dataset = 'ml-100k'\r\n",
        "batch_size = 1024\r\n",
        "layers = eval('[64,64]')\r\n",
        "emb_dim = 64\r\n",
        "lr = 0.0001\r\n",
        "reg = 1e-5\r\n",
        "mess_dropout = 0.1\r\n",
        "node_dropout = 0.\r\n",
        "k = 10\r\n",
        "n_epochs = 400\r\n",
        "eval_N = 1\r\n",
        "save_results = 1\r\n",
        "results_dir = 'results'\r\n",
        "\r\n",
        "# generate the NGCF-adjacency matrix\r\n",
        "data_generator = Data(path=data_dir + dataset, batch_size=batch_size)\r\n",
        "adj_mtx = data_generator.get_adj_mat()\r\n",
        "\r\n",
        "# create model name and save\r\n",
        "modelname =  \"NGCF\" + \\\r\n",
        "    \"_bs_\" + str(batch_size) + \\\r\n",
        "    \"_nemb_\" + str(emb_dim) + \\\r\n",
        "    \"_layers_\" + str(layers) + \\\r\n",
        "    \"_nodedr_\" + str(node_dropout) + \\\r\n",
        "    \"_messdr_\" + str(mess_dropout) + \\\r\n",
        "    \"_reg_\" + str(reg) + \\\r\n",
        "    \"_lr_\"  + str(lr)\r\n",
        "\r\n",
        "# create NGCF model\r\n",
        "model = NGCF(data_generator.n_users, \r\n",
        "              data_generator.n_items,\r\n",
        "              emb_dim,\r\n",
        "              layers,\r\n",
        "              reg,\r\n",
        "              node_dropout,\r\n",
        "              mess_dropout,\r\n",
        "              adj_mtx)\r\n",
        "if use_cuda:\r\n",
        "    model = model.cuda()\r\n",
        "\r\n",
        "# current best metric\r\n",
        "cur_best_metric = 0\r\n",
        "\r\n",
        "# Adam optimizer\r\n",
        "optimizer = torch.optim.Adam(model.parameters(), lr=lr)\r\n",
        "\r\n",
        "# Set values for early stopping\r\n",
        "cur_best_loss, stopping_step, should_stop = 1e3, 0, False\r\n",
        "today = datetime.now()\r\n",
        "\r\n",
        "print(\"Start at \" + str(today))\r\n",
        "print(\"Using \" + str(device) + \" for computations\")\r\n",
        "print(\"Params on CUDA: \" + str(next(model.parameters()).is_cuda))\r\n",
        "\r\n",
        "results = {\"Epoch\": [],\r\n",
        "            \"Loss\": [],\r\n",
        "            \"Recall\": [],\r\n",
        "            \"NDCG\": [],\r\n",
        "            \"Training Time\": []}\r\n",
        "\r\n",
        "for epoch in range(n_epochs):\r\n",
        "\r\n",
        "    t1 = time()\r\n",
        "    loss = train(model, data_generator, optimizer)\r\n",
        "    training_time = time()-t1\r\n",
        "    print(\"Epoch: {}, Training time: {:.2f}s, Loss: {:.4f}\".\r\n",
        "        format(epoch, training_time, loss))\r\n",
        "\r\n",
        "    # print test evaluation metrics every N epochs (provided by eval_N)\r\n",
        "    if epoch % eval_N  == (eval_N - 1):\r\n",
        "        with torch.no_grad():\r\n",
        "            t2 = time()\r\n",
        "            recall, ndcg = eval_model(model.u_g_embeddings.detach(),\r\n",
        "                                      model.i_g_embeddings.detach(),\r\n",
        "                                      data_generator.R_train,\r\n",
        "                                      data_generator.R_test,\r\n",
        "                                      k)\r\n",
        "        print(\r\n",
        "            \"Evaluate current model:\\n\",\r\n",
        "            \"Epoch: {}, Validation time: {:.2f}s\".format(epoch, time()-t2),\"\\n\",\r\n",
        "            \"Loss: {:.4f}:\".format(loss), \"\\n\",\r\n",
        "            \"Recall@{}: {:.4f}\".format(k, recall), \"\\n\",\r\n",
        "            \"NDCG@{}: {:.4f}\".format(k, ndcg)\r\n",
        "            )\r\n",
        "\r\n",
        "        cur_best_metric, stopping_step, should_stop = \\\r\n",
        "        early_stopping(recall, cur_best_metric, stopping_step, flag_step=5)\r\n",
        "\r\n",
        "        # save results in dict\r\n",
        "        results['Epoch'].append(epoch)\r\n",
        "        results['Loss'].append(loss)\r\n",
        "        results['Recall'].append(recall.item())\r\n",
        "        results['NDCG'].append(ndcg.item())\r\n",
        "        results['Training Time'].append(training_time)\r\n",
        "    else:\r\n",
        "        # save results in dict\r\n",
        "        results['Epoch'].append(epoch)\r\n",
        "        results['Loss'].append(loss)\r\n",
        "        results['Recall'].append(None)\r\n",
        "        results['NDCG'].append(None)\r\n",
        "        results['Training Time'].append(training_time)\r\n",
        "\r\n",
        "    if should_stop == True: break\r\n",
        "\r\n",
        "# save\r\n",
        "if save_results:\r\n",
        "    date = today.strftime(\"%d%m%Y_%H%M\")\r\n",
        "\r\n",
        "    # save model as .pt file\r\n",
        "    if os.path.isdir(\"./models\"):\r\n",
        "        torch.save(model.state_dict(), \"./models/\" + str(date) + \"_\" + modelname + \"_\" + dataset + \".pt\")\r\n",
        "    else:\r\n",
        "        os.mkdir(\"./models\")\r\n",
        "        torch.save(model.state_dict(), \"./models/\" + str(date) + \"_\" + modelname + \"_\" + dataset + \".pt\")\r\n",
        "\r\n",
        "    # save results as pandas dataframe\r\n",
        "    results_df = pd.DataFrame(results)\r\n",
        "    results_df.set_index('Epoch', inplace=True)\r\n",
        "    if os.path.isdir(\"./results\"):\r\n",
        "        results_df.to_csv(\"./results/\" + str(date) + \"_\" + modelname + \"_\" + dataset + \".csv\")\r\n",
        "    else:\r\n",
        "        os.mkdir(\"./results\")\r\n",
        "        results_df.to_csv(\"./results/\" + str(date) + \"_\" + modelname + \"_\" + dataset + \".csv\")\r\n",
        "    # plot loss\r\n",
        "    results_df['Loss'].plot(figsize=(12,8), title='Loss')"
      ],
      "execution_count": 11,
      "outputs": [
        {
          "output_type": "stream",
          "text": [
            "Evaluate current model:\n",
            " Epoch: 10, Validation time: 1.15s \n",
            " Loss: 34.9819: \n",
            " Recall@10: 0.0501 \n",
            " NDCG@10: 0.2367\n"
          ],
          "name": "stdout"
        },
        {
          "output_type": "stream",
          "text": [
            "/usr/local/lib/python3.6/dist-packages/torch/nn/modules/container.py:550: UserWarning: Setting attributes on ParameterDict is not supported.\n",
            "  warnings.warn(\"Setting attributes on ParameterDict is not supported.\")\n"
          ],
          "name": "stderr"
        },
        {
          "output_type": "stream",
          "text": [
            "Epoch: 11, Training time: 4.19s, Loss: 33.9161\n",
            "Evaluate current model:\n",
            " Epoch: 11, Validation time: 1.12s \n",
            " Loss: 33.9161: \n",
            " Recall@10: 0.0437 \n",
            " NDCG@10: 0.2262\n"
          ],
          "name": "stdout"
        },
        {
          "output_type": "stream",
          "text": [
            "/usr/local/lib/python3.6/dist-packages/torch/nn/modules/container.py:550: UserWarning: Setting attributes on ParameterDict is not supported.\n",
            "  warnings.warn(\"Setting attributes on ParameterDict is not supported.\")\n"
          ],
          "name": "stderr"
        },
        {
          "output_type": "stream",
          "text": [
            "Epoch: 12, Training time: 4.21s, Loss: 32.7651\n",
            "Evaluate current model:\n",
            " Epoch: 12, Validation time: 1.11s \n",
            " Loss: 32.7651: \n",
            " Recall@10: 0.0556 \n",
            " NDCG@10: 0.2607\n"
          ],
          "name": "stdout"
        },
        {
          "output_type": "stream",
          "text": [
            "/usr/local/lib/python3.6/dist-packages/torch/nn/modules/container.py:550: UserWarning: Setting attributes on ParameterDict is not supported.\n",
            "  warnings.warn(\"Setting attributes on ParameterDict is not supported.\")\n"
          ],
          "name": "stderr"
        },
        {
          "output_type": "stream",
          "text": [
            "Epoch: 13, Training time: 4.19s, Loss: 31.4561\n",
            "Evaluate current model:\n",
            " Epoch: 13, Validation time: 1.12s \n",
            " Loss: 31.4561: \n",
            " Recall@10: 0.0521 \n",
            " NDCG@10: 0.2597\n"
          ],
          "name": "stdout"
        },
        {
          "output_type": "stream",
          "text": [
            "/usr/local/lib/python3.6/dist-packages/torch/nn/modules/container.py:550: UserWarning: Setting attributes on ParameterDict is not supported.\n",
            "  warnings.warn(\"Setting attributes on ParameterDict is not supported.\")\n"
          ],
          "name": "stderr"
        },
        {
          "output_type": "stream",
          "text": [
            "Epoch: 14, Training time: 4.26s, Loss: 30.6961\n",
            "Evaluate current model:\n",
            " Epoch: 14, Validation time: 1.13s \n",
            " Loss: 30.6961: \n",
            " Recall@10: 0.0558 \n",
            " NDCG@10: 0.2883\n"
          ],
          "name": "stdout"
        },
        {
          "output_type": "stream",
          "text": [
            "/usr/local/lib/python3.6/dist-packages/torch/nn/modules/container.py:550: UserWarning: Setting attributes on ParameterDict is not supported.\n",
            "  warnings.warn(\"Setting attributes on ParameterDict is not supported.\")\n"
          ],
          "name": "stderr"
        },
        {
          "output_type": "stream",
          "text": [
            "Epoch: 15, Training time: 4.15s, Loss: 30.1188\n",
            "Evaluate current model:\n",
            " Epoch: 15, Validation time: 1.11s \n",
            " Loss: 30.1188: \n",
            " Recall@10: 0.0592 \n",
            " NDCG@10: 0.2960\n"
          ],
          "name": "stdout"
        },
        {
          "output_type": "stream",
          "text": [
            "/usr/local/lib/python3.6/dist-packages/torch/nn/modules/container.py:550: UserWarning: Setting attributes on ParameterDict is not supported.\n",
            "  warnings.warn(\"Setting attributes on ParameterDict is not supported.\")\n"
          ],
          "name": "stderr"
        },
        {
          "output_type": "stream",
          "text": [
            "Epoch: 16, Training time: 4.34s, Loss: 29.4203\n",
            "Evaluate current model:\n",
            " Epoch: 16, Validation time: 1.14s \n",
            " Loss: 29.4203: \n",
            " Recall@10: 0.0565 \n",
            " NDCG@10: 0.2824\n"
          ],
          "name": "stdout"
        },
        {
          "output_type": "stream",
          "text": [
            "/usr/local/lib/python3.6/dist-packages/torch/nn/modules/container.py:550: UserWarning: Setting attributes on ParameterDict is not supported.\n",
            "  warnings.warn(\"Setting attributes on ParameterDict is not supported.\")\n"
          ],
          "name": "stderr"
        },
        {
          "output_type": "stream",
          "text": [
            "Epoch: 17, Training time: 4.25s, Loss: 28.4884\n",
            "Evaluate current model:\n",
            " Epoch: 17, Validation time: 1.15s \n",
            " Loss: 28.4884: \n",
            " Recall@10: 0.0758 \n",
            " NDCG@10: 0.3202\n"
          ],
          "name": "stdout"
        },
        {
          "output_type": "stream",
          "text": [
            "/usr/local/lib/python3.6/dist-packages/torch/nn/modules/container.py:550: UserWarning: Setting attributes on ParameterDict is not supported.\n",
            "  warnings.warn(\"Setting attributes on ParameterDict is not supported.\")\n"
          ],
          "name": "stderr"
        },
        {
          "output_type": "stream",
          "text": [
            "Epoch: 18, Training time: 4.32s, Loss: 27.5151\n",
            "Evaluate current model:\n",
            " Epoch: 18, Validation time: 1.15s \n",
            " Loss: 27.5151: \n",
            " Recall@10: 0.0710 \n",
            " NDCG@10: 0.3070\n"
          ],
          "name": "stdout"
        },
        {
          "output_type": "stream",
          "text": [
            "/usr/local/lib/python3.6/dist-packages/torch/nn/modules/container.py:550: UserWarning: Setting attributes on ParameterDict is not supported.\n",
            "  warnings.warn(\"Setting attributes on ParameterDict is not supported.\")\n"
          ],
          "name": "stderr"
        },
        {
          "output_type": "stream",
          "text": [
            "Epoch: 19, Training time: 4.20s, Loss: 26.8739\n",
            "Evaluate current model:\n",
            " Epoch: 19, Validation time: 1.13s \n",
            " Loss: 26.8739: \n",
            " Recall@10: 0.0765 \n",
            " NDCG@10: 0.3228\n"
          ],
          "name": "stdout"
        },
        {
          "output_type": "stream",
          "text": [
            "/usr/local/lib/python3.6/dist-packages/torch/nn/modules/container.py:550: UserWarning: Setting attributes on ParameterDict is not supported.\n",
            "  warnings.warn(\"Setting attributes on ParameterDict is not supported.\")\n"
          ],
          "name": "stderr"
        },
        {
          "output_type": "stream",
          "text": [
            "Epoch: 20, Training time: 4.04s, Loss: 26.4616\n",
            "Evaluate current model:\n",
            " Epoch: 20, Validation time: 1.11s \n",
            " Loss: 26.4616: \n",
            " Recall@10: 0.0726 \n",
            " NDCG@10: 0.3136\n"
          ],
          "name": "stdout"
        },
        {
          "output_type": "stream",
          "text": [
            "/usr/local/lib/python3.6/dist-packages/torch/nn/modules/container.py:550: UserWarning: Setting attributes on ParameterDict is not supported.\n",
            "  warnings.warn(\"Setting attributes on ParameterDict is not supported.\")\n"
          ],
          "name": "stderr"
        },
        {
          "output_type": "stream",
          "text": [
            "Epoch: 21, Training time: 4.27s, Loss: 26.2890\n",
            "Evaluate current model:\n",
            " Epoch: 21, Validation time: 1.11s \n",
            " Loss: 26.2890: \n",
            " Recall@10: 0.0762 \n",
            " NDCG@10: 0.3357\n"
          ],
          "name": "stdout"
        },
        {
          "output_type": "stream",
          "text": [
            "/usr/local/lib/python3.6/dist-packages/torch/nn/modules/container.py:550: UserWarning: Setting attributes on ParameterDict is not supported.\n",
            "  warnings.warn(\"Setting attributes on ParameterDict is not supported.\")\n"
          ],
          "name": "stderr"
        },
        {
          "output_type": "stream",
          "text": [
            "Epoch: 22, Training time: 4.16s, Loss: 25.7785\n",
            "Evaluate current model:\n",
            " Epoch: 22, Validation time: 1.15s \n",
            " Loss: 25.7785: \n",
            " Recall@10: 0.0833 \n",
            " NDCG@10: 0.3467\n"
          ],
          "name": "stdout"
        },
        {
          "output_type": "stream",
          "text": [
            "/usr/local/lib/python3.6/dist-packages/torch/nn/modules/container.py:550: UserWarning: Setting attributes on ParameterDict is not supported.\n",
            "  warnings.warn(\"Setting attributes on ParameterDict is not supported.\")\n"
          ],
          "name": "stderr"
        },
        {
          "output_type": "stream",
          "text": [
            "Epoch: 23, Training time: 4.44s, Loss: 25.4927\n",
            "Evaluate current model:\n",
            " Epoch: 23, Validation time: 1.11s \n",
            " Loss: 25.4927: \n",
            " Recall@10: 0.0825 \n",
            " NDCG@10: 0.3611\n"
          ],
          "name": "stdout"
        },
        {
          "output_type": "stream",
          "text": [
            "/usr/local/lib/python3.6/dist-packages/torch/nn/modules/container.py:550: UserWarning: Setting attributes on ParameterDict is not supported.\n",
            "  warnings.warn(\"Setting attributes on ParameterDict is not supported.\")\n"
          ],
          "name": "stderr"
        },
        {
          "output_type": "stream",
          "text": [
            "Epoch: 24, Training time: 4.35s, Loss: 25.5589\n",
            "Evaluate current model:\n",
            " Epoch: 24, Validation time: 1.14s \n",
            " Loss: 25.5589: \n",
            " Recall@10: 0.0846 \n",
            " NDCG@10: 0.3725\n"
          ],
          "name": "stdout"
        },
        {
          "output_type": "stream",
          "text": [
            "/usr/local/lib/python3.6/dist-packages/torch/nn/modules/container.py:550: UserWarning: Setting attributes on ParameterDict is not supported.\n",
            "  warnings.warn(\"Setting attributes on ParameterDict is not supported.\")\n"
          ],
          "name": "stderr"
        },
        {
          "output_type": "stream",
          "text": [
            "Epoch: 25, Training time: 4.14s, Loss: 25.1124\n",
            "Evaluate current model:\n",
            " Epoch: 25, Validation time: 1.11s \n",
            " Loss: 25.1124: \n",
            " Recall@10: 0.0958 \n",
            " NDCG@10: 0.3709\n"
          ],
          "name": "stdout"
        },
        {
          "output_type": "stream",
          "text": [
            "/usr/local/lib/python3.6/dist-packages/torch/nn/modules/container.py:550: UserWarning: Setting attributes on ParameterDict is not supported.\n",
            "  warnings.warn(\"Setting attributes on ParameterDict is not supported.\")\n"
          ],
          "name": "stderr"
        },
        {
          "output_type": "stream",
          "text": [
            "Epoch: 26, Training time: 4.41s, Loss: 25.1572\n",
            "Evaluate current model:\n",
            " Epoch: 26, Validation time: 1.14s \n",
            " Loss: 25.1572: \n",
            " Recall@10: 0.0985 \n",
            " NDCG@10: 0.3801\n"
          ],
          "name": "stdout"
        },
        {
          "output_type": "stream",
          "text": [
            "/usr/local/lib/python3.6/dist-packages/torch/nn/modules/container.py:550: UserWarning: Setting attributes on ParameterDict is not supported.\n",
            "  warnings.warn(\"Setting attributes on ParameterDict is not supported.\")\n"
          ],
          "name": "stderr"
        },
        {
          "output_type": "stream",
          "text": [
            "Epoch: 27, Training time: 4.48s, Loss: 24.8275\n",
            "Evaluate current model:\n",
            " Epoch: 27, Validation time: 1.12s \n",
            " Loss: 24.8275: \n",
            " Recall@10: 0.0882 \n",
            " NDCG@10: 0.3695\n"
          ],
          "name": "stdout"
        },
        {
          "output_type": "stream",
          "text": [
            "/usr/local/lib/python3.6/dist-packages/torch/nn/modules/container.py:550: UserWarning: Setting attributes on ParameterDict is not supported.\n",
            "  warnings.warn(\"Setting attributes on ParameterDict is not supported.\")\n"
          ],
          "name": "stderr"
        },
        {
          "output_type": "stream",
          "text": [
            "Epoch: 28, Training time: 4.14s, Loss: 24.6486\n",
            "Evaluate current model:\n",
            " Epoch: 28, Validation time: 1.11s \n",
            " Loss: 24.6486: \n",
            " Recall@10: 0.0991 \n",
            " NDCG@10: 0.3953\n"
          ],
          "name": "stdout"
        },
        {
          "output_type": "stream",
          "text": [
            "/usr/local/lib/python3.6/dist-packages/torch/nn/modules/container.py:550: UserWarning: Setting attributes on ParameterDict is not supported.\n",
            "  warnings.warn(\"Setting attributes on ParameterDict is not supported.\")\n"
          ],
          "name": "stderr"
        },
        {
          "output_type": "stream",
          "text": [
            "Epoch: 29, Training time: 4.30s, Loss: 24.3432\n",
            "Evaluate current model:\n",
            " Epoch: 29, Validation time: 1.15s \n",
            " Loss: 24.3432: \n",
            " Recall@10: 0.0972 \n",
            " NDCG@10: 0.3981\n"
          ],
          "name": "stdout"
        },
        {
          "output_type": "stream",
          "text": [
            "/usr/local/lib/python3.6/dist-packages/torch/nn/modules/container.py:550: UserWarning: Setting attributes on ParameterDict is not supported.\n",
            "  warnings.warn(\"Setting attributes on ParameterDict is not supported.\")\n"
          ],
          "name": "stderr"
        },
        {
          "output_type": "stream",
          "text": [
            "Epoch: 30, Training time: 4.03s, Loss: 24.3153\n",
            "Evaluate current model:\n",
            " Epoch: 30, Validation time: 1.12s \n",
            " Loss: 24.3153: \n",
            " Recall@10: 0.1059 \n",
            " NDCG@10: 0.4075\n"
          ],
          "name": "stdout"
        },
        {
          "output_type": "stream",
          "text": [
            "/usr/local/lib/python3.6/dist-packages/torch/nn/modules/container.py:550: UserWarning: Setting attributes on ParameterDict is not supported.\n",
            "  warnings.warn(\"Setting attributes on ParameterDict is not supported.\")\n"
          ],
          "name": "stderr"
        },
        {
          "output_type": "stream",
          "text": [
            "Epoch: 31, Training time: 4.49s, Loss: 24.1162\n",
            "Evaluate current model:\n",
            " Epoch: 31, Validation time: 1.14s \n",
            " Loss: 24.1162: \n",
            " Recall@10: 0.0983 \n",
            " NDCG@10: 0.4054\n"
          ],
          "name": "stdout"
        },
        {
          "output_type": "stream",
          "text": [
            "/usr/local/lib/python3.6/dist-packages/torch/nn/modules/container.py:550: UserWarning: Setting attributes on ParameterDict is not supported.\n",
            "  warnings.warn(\"Setting attributes on ParameterDict is not supported.\")\n"
          ],
          "name": "stderr"
        },
        {
          "output_type": "stream",
          "text": [
            "Epoch: 32, Training time: 4.38s, Loss: 23.9597\n",
            "Evaluate current model:\n",
            " Epoch: 32, Validation time: 1.13s \n",
            " Loss: 23.9597: \n",
            " Recall@10: 0.1086 \n",
            " NDCG@10: 0.4197\n"
          ],
          "name": "stdout"
        },
        {
          "output_type": "stream",
          "text": [
            "/usr/local/lib/python3.6/dist-packages/torch/nn/modules/container.py:550: UserWarning: Setting attributes on ParameterDict is not supported.\n",
            "  warnings.warn(\"Setting attributes on ParameterDict is not supported.\")\n"
          ],
          "name": "stderr"
        },
        {
          "output_type": "stream",
          "text": [
            "Epoch: 33, Training time: 4.32s, Loss: 23.8884\n",
            "Evaluate current model:\n",
            " Epoch: 33, Validation time: 1.11s \n",
            " Loss: 23.8884: \n",
            " Recall@10: 0.1091 \n",
            " NDCG@10: 0.4170\n"
          ],
          "name": "stdout"
        },
        {
          "output_type": "stream",
          "text": [
            "/usr/local/lib/python3.6/dist-packages/torch/nn/modules/container.py:550: UserWarning: Setting attributes on ParameterDict is not supported.\n",
            "  warnings.warn(\"Setting attributes on ParameterDict is not supported.\")\n"
          ],
          "name": "stderr"
        },
        {
          "output_type": "stream",
          "text": [
            "Epoch: 34, Training time: 4.29s, Loss: 23.9479\n",
            "Evaluate current model:\n",
            " Epoch: 34, Validation time: 1.13s \n",
            " Loss: 23.9479: \n",
            " Recall@10: 0.1063 \n",
            " NDCG@10: 0.4214\n"
          ],
          "name": "stdout"
        },
        {
          "output_type": "stream",
          "text": [
            "/usr/local/lib/python3.6/dist-packages/torch/nn/modules/container.py:550: UserWarning: Setting attributes on ParameterDict is not supported.\n",
            "  warnings.warn(\"Setting attributes on ParameterDict is not supported.\")\n"
          ],
          "name": "stderr"
        },
        {
          "output_type": "stream",
          "text": [
            "Epoch: 35, Training time: 4.12s, Loss: 23.5901\n",
            "Evaluate current model:\n",
            " Epoch: 35, Validation time: 1.12s \n",
            " Loss: 23.5901: \n",
            " Recall@10: 0.1120 \n",
            " NDCG@10: 0.4283\n"
          ],
          "name": "stdout"
        },
        {
          "output_type": "stream",
          "text": [
            "/usr/local/lib/python3.6/dist-packages/torch/nn/modules/container.py:550: UserWarning: Setting attributes on ParameterDict is not supported.\n",
            "  warnings.warn(\"Setting attributes on ParameterDict is not supported.\")\n"
          ],
          "name": "stderr"
        },
        {
          "output_type": "stream",
          "text": [
            "Epoch: 36, Training time: 4.18s, Loss: 23.5599\n",
            "Evaluate current model:\n",
            " Epoch: 36, Validation time: 1.15s \n",
            " Loss: 23.5599: \n",
            " Recall@10: 0.1074 \n",
            " NDCG@10: 0.4257\n"
          ],
          "name": "stdout"
        },
        {
          "output_type": "stream",
          "text": [
            "/usr/local/lib/python3.6/dist-packages/torch/nn/modules/container.py:550: UserWarning: Setting attributes on ParameterDict is not supported.\n",
            "  warnings.warn(\"Setting attributes on ParameterDict is not supported.\")\n"
          ],
          "name": "stderr"
        },
        {
          "output_type": "stream",
          "text": [
            "Epoch: 37, Training time: 4.04s, Loss: 23.4794\n",
            "Evaluate current model:\n",
            " Epoch: 37, Validation time: 1.12s \n",
            " Loss: 23.4794: \n",
            " Recall@10: 0.1207 \n",
            " NDCG@10: 0.4453\n"
          ],
          "name": "stdout"
        },
        {
          "output_type": "stream",
          "text": [
            "/usr/local/lib/python3.6/dist-packages/torch/nn/modules/container.py:550: UserWarning: Setting attributes on ParameterDict is not supported.\n",
            "  warnings.warn(\"Setting attributes on ParameterDict is not supported.\")\n"
          ],
          "name": "stderr"
        },
        {
          "output_type": "stream",
          "text": [
            "Epoch: 38, Training time: 4.18s, Loss: 23.2912\n",
            "Evaluate current model:\n",
            " Epoch: 38, Validation time: 1.13s \n",
            " Loss: 23.2912: \n",
            " Recall@10: 0.1274 \n",
            " NDCG@10: 0.4586\n"
          ],
          "name": "stdout"
        },
        {
          "output_type": "stream",
          "text": [
            "/usr/local/lib/python3.6/dist-packages/torch/nn/modules/container.py:550: UserWarning: Setting attributes on ParameterDict is not supported.\n",
            "  warnings.warn(\"Setting attributes on ParameterDict is not supported.\")\n"
          ],
          "name": "stderr"
        },
        {
          "output_type": "stream",
          "text": [
            "Epoch: 39, Training time: 4.20s, Loss: 23.2236\n",
            "Evaluate current model:\n",
            " Epoch: 39, Validation time: 1.14s \n",
            " Loss: 23.2236: \n",
            " Recall@10: 0.1238 \n",
            " NDCG@10: 0.4596\n"
          ],
          "name": "stdout"
        },
        {
          "output_type": "stream",
          "text": [
            "/usr/local/lib/python3.6/dist-packages/torch/nn/modules/container.py:550: UserWarning: Setting attributes on ParameterDict is not supported.\n",
            "  warnings.warn(\"Setting attributes on ParameterDict is not supported.\")\n"
          ],
          "name": "stderr"
        },
        {
          "output_type": "stream",
          "text": [
            "Epoch: 40, Training time: 4.60s, Loss: 23.1948\n",
            "Evaluate current model:\n",
            " Epoch: 40, Validation time: 1.11s \n",
            " Loss: 23.1948: \n",
            " Recall@10: 0.1304 \n",
            " NDCG@10: 0.4581\n"
          ],
          "name": "stdout"
        },
        {
          "output_type": "stream",
          "text": [
            "/usr/local/lib/python3.6/dist-packages/torch/nn/modules/container.py:550: UserWarning: Setting attributes on ParameterDict is not supported.\n",
            "  warnings.warn(\"Setting attributes on ParameterDict is not supported.\")\n"
          ],
          "name": "stderr"
        },
        {
          "output_type": "stream",
          "text": [
            "Epoch: 41, Training time: 4.35s, Loss: 22.7165\n",
            "Evaluate current model:\n",
            " Epoch: 41, Validation time: 1.13s \n",
            " Loss: 22.7165: \n",
            " Recall@10: 0.1314 \n",
            " NDCG@10: 0.4592\n"
          ],
          "name": "stdout"
        },
        {
          "output_type": "stream",
          "text": [
            "/usr/local/lib/python3.6/dist-packages/torch/nn/modules/container.py:550: UserWarning: Setting attributes on ParameterDict is not supported.\n",
            "  warnings.warn(\"Setting attributes on ParameterDict is not supported.\")\n"
          ],
          "name": "stderr"
        },
        {
          "output_type": "stream",
          "text": [
            "Epoch: 42, Training time: 4.21s, Loss: 22.7314\n",
            "Evaluate current model:\n",
            " Epoch: 42, Validation time: 1.13s \n",
            " Loss: 22.7314: \n",
            " Recall@10: 0.1208 \n",
            " NDCG@10: 0.4607\n"
          ],
          "name": "stdout"
        },
        {
          "output_type": "stream",
          "text": [
            "/usr/local/lib/python3.6/dist-packages/torch/nn/modules/container.py:550: UserWarning: Setting attributes on ParameterDict is not supported.\n",
            "  warnings.warn(\"Setting attributes on ParameterDict is not supported.\")\n"
          ],
          "name": "stderr"
        },
        {
          "output_type": "stream",
          "text": [
            "Epoch: 43, Training time: 4.38s, Loss: 22.6795\n",
            "Evaluate current model:\n",
            " Epoch: 43, Validation time: 1.13s \n",
            " Loss: 22.6795: \n",
            " Recall@10: 0.1345 \n",
            " NDCG@10: 0.4654\n"
          ],
          "name": "stdout"
        },
        {
          "output_type": "stream",
          "text": [
            "/usr/local/lib/python3.6/dist-packages/torch/nn/modules/container.py:550: UserWarning: Setting attributes on ParameterDict is not supported.\n",
            "  warnings.warn(\"Setting attributes on ParameterDict is not supported.\")\n"
          ],
          "name": "stderr"
        },
        {
          "output_type": "stream",
          "text": [
            "Epoch: 44, Training time: 4.19s, Loss: 22.6807\n",
            "Evaluate current model:\n",
            " Epoch: 44, Validation time: 1.16s \n",
            " Loss: 22.6807: \n",
            " Recall@10: 0.1311 \n",
            " NDCG@10: 0.4716\n"
          ],
          "name": "stdout"
        },
        {
          "output_type": "stream",
          "text": [
            "/usr/local/lib/python3.6/dist-packages/torch/nn/modules/container.py:550: UserWarning: Setting attributes on ParameterDict is not supported.\n",
            "  warnings.warn(\"Setting attributes on ParameterDict is not supported.\")\n"
          ],
          "name": "stderr"
        },
        {
          "output_type": "stream",
          "text": [
            "Epoch: 45, Training time: 4.02s, Loss: 22.4766\n",
            "Evaluate current model:\n",
            " Epoch: 45, Validation time: 1.15s \n",
            " Loss: 22.4766: \n",
            " Recall@10: 0.1298 \n",
            " NDCG@10: 0.4707\n"
          ],
          "name": "stdout"
        },
        {
          "output_type": "stream",
          "text": [
            "/usr/local/lib/python3.6/dist-packages/torch/nn/modules/container.py:550: UserWarning: Setting attributes on ParameterDict is not supported.\n",
            "  warnings.warn(\"Setting attributes on ParameterDict is not supported.\")\n"
          ],
          "name": "stderr"
        },
        {
          "output_type": "stream",
          "text": [
            "Epoch: 46, Training time: 4.20s, Loss: 22.4799\n",
            "Evaluate current model:\n",
            " Epoch: 46, Validation time: 1.15s \n",
            " Loss: 22.4799: \n",
            " Recall@10: 0.1311 \n",
            " NDCG@10: 0.4831\n"
          ],
          "name": "stdout"
        },
        {
          "output_type": "stream",
          "text": [
            "/usr/local/lib/python3.6/dist-packages/torch/nn/modules/container.py:550: UserWarning: Setting attributes on ParameterDict is not supported.\n",
            "  warnings.warn(\"Setting attributes on ParameterDict is not supported.\")\n"
          ],
          "name": "stderr"
        },
        {
          "output_type": "stream",
          "text": [
            "Epoch: 47, Training time: 4.39s, Loss: 22.3081\n",
            "Evaluate current model:\n",
            " Epoch: 47, Validation time: 1.16s \n",
            " Loss: 22.3081: \n",
            " Recall@10: 0.1380 \n",
            " NDCG@10: 0.4998\n"
          ],
          "name": "stdout"
        },
        {
          "output_type": "stream",
          "text": [
            "/usr/local/lib/python3.6/dist-packages/torch/nn/modules/container.py:550: UserWarning: Setting attributes on ParameterDict is not supported.\n",
            "  warnings.warn(\"Setting attributes on ParameterDict is not supported.\")\n"
          ],
          "name": "stderr"
        },
        {
          "output_type": "stream",
          "text": [
            "Epoch: 48, Training time: 4.37s, Loss: 22.0237\n",
            "Evaluate current model:\n",
            " Epoch: 48, Validation time: 1.12s \n",
            " Loss: 22.0237: \n",
            " Recall@10: 0.1390 \n",
            " NDCG@10: 0.5023\n"
          ],
          "name": "stdout"
        },
        {
          "output_type": "stream",
          "text": [
            "/usr/local/lib/python3.6/dist-packages/torch/nn/modules/container.py:550: UserWarning: Setting attributes on ParameterDict is not supported.\n",
            "  warnings.warn(\"Setting attributes on ParameterDict is not supported.\")\n"
          ],
          "name": "stderr"
        },
        {
          "output_type": "stream",
          "text": [
            "Epoch: 49, Training time: 4.24s, Loss: 22.0896\n",
            "Evaluate current model:\n",
            " Epoch: 49, Validation time: 1.13s \n",
            " Loss: 22.0896: \n",
            " Recall@10: 0.1341 \n",
            " NDCG@10: 0.4846\n"
          ],
          "name": "stdout"
        },
        {
          "output_type": "stream",
          "text": [
            "/usr/local/lib/python3.6/dist-packages/torch/nn/modules/container.py:550: UserWarning: Setting attributes on ParameterDict is not supported.\n",
            "  warnings.warn(\"Setting attributes on ParameterDict is not supported.\")\n"
          ],
          "name": "stderr"
        },
        {
          "output_type": "stream",
          "text": [
            "Epoch: 50, Training time: 4.14s, Loss: 21.9872\n",
            "Evaluate current model:\n",
            " Epoch: 50, Validation time: 1.15s \n",
            " Loss: 21.9872: \n",
            " Recall@10: 0.1376 \n",
            " NDCG@10: 0.5019\n"
          ],
          "name": "stdout"
        },
        {
          "output_type": "stream",
          "text": [
            "/usr/local/lib/python3.6/dist-packages/torch/nn/modules/container.py:550: UserWarning: Setting attributes on ParameterDict is not supported.\n",
            "  warnings.warn(\"Setting attributes on ParameterDict is not supported.\")\n"
          ],
          "name": "stderr"
        },
        {
          "output_type": "stream",
          "text": [
            "Epoch: 51, Training time: 4.09s, Loss: 21.9160\n",
            "Evaluate current model:\n",
            " Epoch: 51, Validation time: 1.13s \n",
            " Loss: 21.9160: \n",
            " Recall@10: 0.1366 \n",
            " NDCG@10: 0.5022\n"
          ],
          "name": "stdout"
        },
        {
          "output_type": "stream",
          "text": [
            "/usr/local/lib/python3.6/dist-packages/torch/nn/modules/container.py:550: UserWarning: Setting attributes on ParameterDict is not supported.\n",
            "  warnings.warn(\"Setting attributes on ParameterDict is not supported.\")\n"
          ],
          "name": "stderr"
        },
        {
          "output_type": "stream",
          "text": [
            "Epoch: 52, Training time: 4.17s, Loss: 21.6302\n",
            "Evaluate current model:\n",
            " Epoch: 52, Validation time: 1.14s \n",
            " Loss: 21.6302: \n",
            " Recall@10: 0.1433 \n",
            " NDCG@10: 0.5246\n"
          ],
          "name": "stdout"
        },
        {
          "output_type": "stream",
          "text": [
            "/usr/local/lib/python3.6/dist-packages/torch/nn/modules/container.py:550: UserWarning: Setting attributes on ParameterDict is not supported.\n",
            "  warnings.warn(\"Setting attributes on ParameterDict is not supported.\")\n"
          ],
          "name": "stderr"
        },
        {
          "output_type": "stream",
          "text": [
            "Epoch: 53, Training time: 4.21s, Loss: 21.7743\n",
            "Evaluate current model:\n",
            " Epoch: 53, Validation time: 1.13s \n",
            " Loss: 21.7743: \n",
            " Recall@10: 0.1431 \n",
            " NDCG@10: 0.5203\n"
          ],
          "name": "stdout"
        },
        {
          "output_type": "stream",
          "text": [
            "/usr/local/lib/python3.6/dist-packages/torch/nn/modules/container.py:550: UserWarning: Setting attributes on ParameterDict is not supported.\n",
            "  warnings.warn(\"Setting attributes on ParameterDict is not supported.\")\n"
          ],
          "name": "stderr"
        },
        {
          "output_type": "stream",
          "text": [
            "Epoch: 54, Training time: 4.43s, Loss: 21.4978\n",
            "Evaluate current model:\n",
            " Epoch: 54, Validation time: 1.11s \n",
            " Loss: 21.4978: \n",
            " Recall@10: 0.1437 \n",
            " NDCG@10: 0.5186\n"
          ],
          "name": "stdout"
        },
        {
          "output_type": "stream",
          "text": [
            "/usr/local/lib/python3.6/dist-packages/torch/nn/modules/container.py:550: UserWarning: Setting attributes on ParameterDict is not supported.\n",
            "  warnings.warn(\"Setting attributes on ParameterDict is not supported.\")\n"
          ],
          "name": "stderr"
        },
        {
          "output_type": "stream",
          "text": [
            "Epoch: 55, Training time: 4.38s, Loss: 21.4471\n",
            "Evaluate current model:\n",
            " Epoch: 55, Validation time: 1.12s \n",
            " Loss: 21.4471: \n",
            " Recall@10: 0.1422 \n",
            " NDCG@10: 0.5163\n"
          ],
          "name": "stdout"
        },
        {
          "output_type": "stream",
          "text": [
            "/usr/local/lib/python3.6/dist-packages/torch/nn/modules/container.py:550: UserWarning: Setting attributes on ParameterDict is not supported.\n",
            "  warnings.warn(\"Setting attributes on ParameterDict is not supported.\")\n"
          ],
          "name": "stderr"
        },
        {
          "output_type": "stream",
          "text": [
            "Epoch: 56, Training time: 4.17s, Loss: 21.2139\n",
            "Evaluate current model:\n",
            " Epoch: 56, Validation time: 1.13s \n",
            " Loss: 21.2139: \n",
            " Recall@10: 0.1455 \n",
            " NDCG@10: 0.5179\n"
          ],
          "name": "stdout"
        },
        {
          "output_type": "stream",
          "text": [
            "/usr/local/lib/python3.6/dist-packages/torch/nn/modules/container.py:550: UserWarning: Setting attributes on ParameterDict is not supported.\n",
            "  warnings.warn(\"Setting attributes on ParameterDict is not supported.\")\n"
          ],
          "name": "stderr"
        },
        {
          "output_type": "stream",
          "text": [
            "Epoch: 57, Training time: 4.22s, Loss: 21.2633\n",
            "Evaluate current model:\n",
            " Epoch: 57, Validation time: 1.15s \n",
            " Loss: 21.2633: \n",
            " Recall@10: 0.1463 \n",
            " NDCG@10: 0.5256\n"
          ],
          "name": "stdout"
        },
        {
          "output_type": "stream",
          "text": [
            "/usr/local/lib/python3.6/dist-packages/torch/nn/modules/container.py:550: UserWarning: Setting attributes on ParameterDict is not supported.\n",
            "  warnings.warn(\"Setting attributes on ParameterDict is not supported.\")\n"
          ],
          "name": "stderr"
        },
        {
          "output_type": "stream",
          "text": [
            "Epoch: 58, Training time: 4.42s, Loss: 21.2160\n",
            "Evaluate current model:\n",
            " Epoch: 58, Validation time: 1.14s \n",
            " Loss: 21.2160: \n",
            " Recall@10: 0.1466 \n",
            " NDCG@10: 0.5245\n"
          ],
          "name": "stdout"
        },
        {
          "output_type": "stream",
          "text": [
            "/usr/local/lib/python3.6/dist-packages/torch/nn/modules/container.py:550: UserWarning: Setting attributes on ParameterDict is not supported.\n",
            "  warnings.warn(\"Setting attributes on ParameterDict is not supported.\")\n"
          ],
          "name": "stderr"
        },
        {
          "output_type": "stream",
          "text": [
            "Epoch: 59, Training time: 4.11s, Loss: 21.1629\n",
            "Evaluate current model:\n",
            " Epoch: 59, Validation time: 1.14s \n",
            " Loss: 21.1629: \n",
            " Recall@10: 0.1476 \n",
            " NDCG@10: 0.5375\n"
          ],
          "name": "stdout"
        },
        {
          "output_type": "stream",
          "text": [
            "/usr/local/lib/python3.6/dist-packages/torch/nn/modules/container.py:550: UserWarning: Setting attributes on ParameterDict is not supported.\n",
            "  warnings.warn(\"Setting attributes on ParameterDict is not supported.\")\n"
          ],
          "name": "stderr"
        },
        {
          "output_type": "stream",
          "text": [
            "Epoch: 60, Training time: 4.19s, Loss: 21.1346\n",
            "Evaluate current model:\n",
            " Epoch: 60, Validation time: 1.12s \n",
            " Loss: 21.1346: \n",
            " Recall@10: 0.1521 \n",
            " NDCG@10: 0.5279\n"
          ],
          "name": "stdout"
        },
        {
          "output_type": "stream",
          "text": [
            "/usr/local/lib/python3.6/dist-packages/torch/nn/modules/container.py:550: UserWarning: Setting attributes on ParameterDict is not supported.\n",
            "  warnings.warn(\"Setting attributes on ParameterDict is not supported.\")\n"
          ],
          "name": "stderr"
        },
        {
          "output_type": "stream",
          "text": [
            "Epoch: 61, Training time: 4.43s, Loss: 20.9031\n",
            "Evaluate current model:\n",
            " Epoch: 61, Validation time: 1.14s \n",
            " Loss: 20.9031: \n",
            " Recall@10: 0.1512 \n",
            " NDCG@10: 0.5313\n"
          ],
          "name": "stdout"
        },
        {
          "output_type": "stream",
          "text": [
            "/usr/local/lib/python3.6/dist-packages/torch/nn/modules/container.py:550: UserWarning: Setting attributes on ParameterDict is not supported.\n",
            "  warnings.warn(\"Setting attributes on ParameterDict is not supported.\")\n"
          ],
          "name": "stderr"
        },
        {
          "output_type": "stream",
          "text": [
            "Epoch: 62, Training time: 4.35s, Loss: 20.7512\n",
            "Evaluate current model:\n",
            " Epoch: 62, Validation time: 1.14s \n",
            " Loss: 20.7512: \n",
            " Recall@10: 0.1482 \n",
            " NDCG@10: 0.5146\n"
          ],
          "name": "stdout"
        },
        {
          "output_type": "stream",
          "text": [
            "/usr/local/lib/python3.6/dist-packages/torch/nn/modules/container.py:550: UserWarning: Setting attributes on ParameterDict is not supported.\n",
            "  warnings.warn(\"Setting attributes on ParameterDict is not supported.\")\n"
          ],
          "name": "stderr"
        },
        {
          "output_type": "stream",
          "text": [
            "Epoch: 63, Training time: 4.32s, Loss: 20.9944\n",
            "Evaluate current model:\n",
            " Epoch: 63, Validation time: 1.13s \n",
            " Loss: 20.9944: \n",
            " Recall@10: 0.1524 \n",
            " NDCG@10: 0.5348\n"
          ],
          "name": "stdout"
        },
        {
          "output_type": "stream",
          "text": [
            "/usr/local/lib/python3.6/dist-packages/torch/nn/modules/container.py:550: UserWarning: Setting attributes on ParameterDict is not supported.\n",
            "  warnings.warn(\"Setting attributes on ParameterDict is not supported.\")\n"
          ],
          "name": "stderr"
        },
        {
          "output_type": "stream",
          "text": [
            "Epoch: 64, Training time: 4.23s, Loss: 20.7634\n",
            "Evaluate current model:\n",
            " Epoch: 64, Validation time: 1.15s \n",
            " Loss: 20.7634: \n",
            " Recall@10: 0.1509 \n",
            " NDCG@10: 0.5337\n"
          ],
          "name": "stdout"
        },
        {
          "output_type": "stream",
          "text": [
            "/usr/local/lib/python3.6/dist-packages/torch/nn/modules/container.py:550: UserWarning: Setting attributes on ParameterDict is not supported.\n",
            "  warnings.warn(\"Setting attributes on ParameterDict is not supported.\")\n"
          ],
          "name": "stderr"
        },
        {
          "output_type": "stream",
          "text": [
            "Epoch: 65, Training time: 4.24s, Loss: 20.6860\n",
            "Evaluate current model:\n",
            " Epoch: 65, Validation time: 1.19s \n",
            " Loss: 20.6860: \n",
            " Recall@10: 0.1507 \n",
            " NDCG@10: 0.5364\n"
          ],
          "name": "stdout"
        },
        {
          "output_type": "stream",
          "text": [
            "/usr/local/lib/python3.6/dist-packages/torch/nn/modules/container.py:550: UserWarning: Setting attributes on ParameterDict is not supported.\n",
            "  warnings.warn(\"Setting attributes on ParameterDict is not supported.\")\n"
          ],
          "name": "stderr"
        },
        {
          "output_type": "stream",
          "text": [
            "Epoch: 66, Training time: 4.18s, Loss: 20.4324\n",
            "Evaluate current model:\n",
            " Epoch: 66, Validation time: 1.17s \n",
            " Loss: 20.4324: \n",
            " Recall@10: 0.1544 \n",
            " NDCG@10: 0.5280\n"
          ],
          "name": "stdout"
        },
        {
          "output_type": "stream",
          "text": [
            "/usr/local/lib/python3.6/dist-packages/torch/nn/modules/container.py:550: UserWarning: Setting attributes on ParameterDict is not supported.\n",
            "  warnings.warn(\"Setting attributes on ParameterDict is not supported.\")\n"
          ],
          "name": "stderr"
        },
        {
          "output_type": "stream",
          "text": [
            "Epoch: 67, Training time: 4.47s, Loss: 20.3202\n",
            "Evaluate current model:\n",
            " Epoch: 67, Validation time: 1.12s \n",
            " Loss: 20.3202: \n",
            " Recall@10: 0.1556 \n",
            " NDCG@10: 0.5422\n"
          ],
          "name": "stdout"
        },
        {
          "output_type": "stream",
          "text": [
            "/usr/local/lib/python3.6/dist-packages/torch/nn/modules/container.py:550: UserWarning: Setting attributes on ParameterDict is not supported.\n",
            "  warnings.warn(\"Setting attributes on ParameterDict is not supported.\")\n"
          ],
          "name": "stderr"
        },
        {
          "output_type": "stream",
          "text": [
            "Epoch: 68, Training time: 4.18s, Loss: 20.4694\n",
            "Evaluate current model:\n",
            " Epoch: 68, Validation time: 1.12s \n",
            " Loss: 20.4694: \n",
            " Recall@10: 0.1569 \n",
            " NDCG@10: 0.5464\n"
          ],
          "name": "stdout"
        },
        {
          "output_type": "stream",
          "text": [
            "/usr/local/lib/python3.6/dist-packages/torch/nn/modules/container.py:550: UserWarning: Setting attributes on ParameterDict is not supported.\n",
            "  warnings.warn(\"Setting attributes on ParameterDict is not supported.\")\n"
          ],
          "name": "stderr"
        },
        {
          "output_type": "stream",
          "text": [
            "Epoch: 69, Training time: 4.47s, Loss: 20.2546\n",
            "Evaluate current model:\n",
            " Epoch: 69, Validation time: 1.14s \n",
            " Loss: 20.2546: \n",
            " Recall@10: 0.1603 \n",
            " NDCG@10: 0.5523\n"
          ],
          "name": "stdout"
        },
        {
          "output_type": "stream",
          "text": [
            "/usr/local/lib/python3.6/dist-packages/torch/nn/modules/container.py:550: UserWarning: Setting attributes on ParameterDict is not supported.\n",
            "  warnings.warn(\"Setting attributes on ParameterDict is not supported.\")\n"
          ],
          "name": "stderr"
        },
        {
          "output_type": "stream",
          "text": [
            "Epoch: 70, Training time: 4.39s, Loss: 20.3144\n",
            "Evaluate current model:\n",
            " Epoch: 70, Validation time: 1.11s \n",
            " Loss: 20.3144: \n",
            " Recall@10: 0.1590 \n",
            " NDCG@10: 0.5406\n"
          ],
          "name": "stdout"
        },
        {
          "output_type": "stream",
          "text": [
            "/usr/local/lib/python3.6/dist-packages/torch/nn/modules/container.py:550: UserWarning: Setting attributes on ParameterDict is not supported.\n",
            "  warnings.warn(\"Setting attributes on ParameterDict is not supported.\")\n"
          ],
          "name": "stderr"
        },
        {
          "output_type": "stream",
          "text": [
            "Epoch: 71, Training time: 4.13s, Loss: 19.9786\n",
            "Evaluate current model:\n",
            " Epoch: 71, Validation time: 1.11s \n",
            " Loss: 19.9786: \n",
            " Recall@10: 0.1562 \n",
            " NDCG@10: 0.5489\n"
          ],
          "name": "stdout"
        },
        {
          "output_type": "stream",
          "text": [
            "/usr/local/lib/python3.6/dist-packages/torch/nn/modules/container.py:550: UserWarning: Setting attributes on ParameterDict is not supported.\n",
            "  warnings.warn(\"Setting attributes on ParameterDict is not supported.\")\n"
          ],
          "name": "stderr"
        },
        {
          "output_type": "stream",
          "text": [
            "Epoch: 72, Training time: 4.41s, Loss: 19.8977\n",
            "Evaluate current model:\n",
            " Epoch: 72, Validation time: 1.14s \n",
            " Loss: 19.8977: \n",
            " Recall@10: 0.1614 \n",
            " NDCG@10: 0.5623\n"
          ],
          "name": "stdout"
        },
        {
          "output_type": "stream",
          "text": [
            "/usr/local/lib/python3.6/dist-packages/torch/nn/modules/container.py:550: UserWarning: Setting attributes on ParameterDict is not supported.\n",
            "  warnings.warn(\"Setting attributes on ParameterDict is not supported.\")\n"
          ],
          "name": "stderr"
        },
        {
          "output_type": "stream",
          "text": [
            "Epoch: 73, Training time: 4.20s, Loss: 20.1384\n",
            "Evaluate current model:\n",
            " Epoch: 73, Validation time: 1.13s \n",
            " Loss: 20.1384: \n",
            " Recall@10: 0.1602 \n",
            " NDCG@10: 0.5556\n"
          ],
          "name": "stdout"
        },
        {
          "output_type": "stream",
          "text": [
            "/usr/local/lib/python3.6/dist-packages/torch/nn/modules/container.py:550: UserWarning: Setting attributes on ParameterDict is not supported.\n",
            "  warnings.warn(\"Setting attributes on ParameterDict is not supported.\")\n"
          ],
          "name": "stderr"
        },
        {
          "output_type": "stream",
          "text": [
            "Epoch: 74, Training time: 4.12s, Loss: 19.8452\n",
            "Evaluate current model:\n",
            " Epoch: 74, Validation time: 1.12s \n",
            " Loss: 19.8452: \n",
            " Recall@10: 0.1623 \n",
            " NDCG@10: 0.5625\n"
          ],
          "name": "stdout"
        },
        {
          "output_type": "stream",
          "text": [
            "/usr/local/lib/python3.6/dist-packages/torch/nn/modules/container.py:550: UserWarning: Setting attributes on ParameterDict is not supported.\n",
            "  warnings.warn(\"Setting attributes on ParameterDict is not supported.\")\n"
          ],
          "name": "stderr"
        },
        {
          "output_type": "stream",
          "text": [
            "Epoch: 75, Training time: 4.13s, Loss: 19.6446\n",
            "Evaluate current model:\n",
            " Epoch: 75, Validation time: 1.13s \n",
            " Loss: 19.6446: \n",
            " Recall@10: 0.1636 \n",
            " NDCG@10: 0.5655\n"
          ],
          "name": "stdout"
        },
        {
          "output_type": "stream",
          "text": [
            "/usr/local/lib/python3.6/dist-packages/torch/nn/modules/container.py:550: UserWarning: Setting attributes on ParameterDict is not supported.\n",
            "  warnings.warn(\"Setting attributes on ParameterDict is not supported.\")\n"
          ],
          "name": "stderr"
        },
        {
          "output_type": "stream",
          "text": [
            "Epoch: 76, Training time: 4.26s, Loss: 19.6461\n",
            "Evaluate current model:\n",
            " Epoch: 76, Validation time: 1.16s \n",
            " Loss: 19.6461: \n",
            " Recall@10: 0.1661 \n",
            " NDCG@10: 0.5653\n"
          ],
          "name": "stdout"
        },
        {
          "output_type": "stream",
          "text": [
            "/usr/local/lib/python3.6/dist-packages/torch/nn/modules/container.py:550: UserWarning: Setting attributes on ParameterDict is not supported.\n",
            "  warnings.warn(\"Setting attributes on ParameterDict is not supported.\")\n"
          ],
          "name": "stderr"
        },
        {
          "output_type": "stream",
          "text": [
            "Epoch: 77, Training time: 4.47s, Loss: 19.4810\n",
            "Evaluate current model:\n",
            " Epoch: 77, Validation time: 1.15s \n",
            " Loss: 19.4810: \n",
            " Recall@10: 0.1646 \n",
            " NDCG@10: 0.5616\n"
          ],
          "name": "stdout"
        },
        {
          "output_type": "stream",
          "text": [
            "/usr/local/lib/python3.6/dist-packages/torch/nn/modules/container.py:550: UserWarning: Setting attributes on ParameterDict is not supported.\n",
            "  warnings.warn(\"Setting attributes on ParameterDict is not supported.\")\n"
          ],
          "name": "stderr"
        },
        {
          "output_type": "stream",
          "text": [
            "Epoch: 78, Training time: 4.27s, Loss: 19.3175\n",
            "Evaluate current model:\n",
            " Epoch: 78, Validation time: 1.12s \n",
            " Loss: 19.3175: \n",
            " Recall@10: 0.1651 \n",
            " NDCG@10: 0.5650\n"
          ],
          "name": "stdout"
        },
        {
          "output_type": "stream",
          "text": [
            "/usr/local/lib/python3.6/dist-packages/torch/nn/modules/container.py:550: UserWarning: Setting attributes on ParameterDict is not supported.\n",
            "  warnings.warn(\"Setting attributes on ParameterDict is not supported.\")\n"
          ],
          "name": "stderr"
        },
        {
          "output_type": "stream",
          "text": [
            "Epoch: 79, Training time: 4.34s, Loss: 19.3304\n",
            "Evaluate current model:\n",
            " Epoch: 79, Validation time: 1.13s \n",
            " Loss: 19.3304: \n",
            " Recall@10: 0.1681 \n",
            " NDCG@10: 0.5698\n"
          ],
          "name": "stdout"
        },
        {
          "output_type": "stream",
          "text": [
            "/usr/local/lib/python3.6/dist-packages/torch/nn/modules/container.py:550: UserWarning: Setting attributes on ParameterDict is not supported.\n",
            "  warnings.warn(\"Setting attributes on ParameterDict is not supported.\")\n"
          ],
          "name": "stderr"
        },
        {
          "output_type": "stream",
          "text": [
            "Epoch: 80, Training time: 4.26s, Loss: 19.1583\n",
            "Evaluate current model:\n",
            " Epoch: 80, Validation time: 1.11s \n",
            " Loss: 19.1583: \n",
            " Recall@10: 0.1676 \n",
            " NDCG@10: 0.5695\n"
          ],
          "name": "stdout"
        },
        {
          "output_type": "stream",
          "text": [
            "/usr/local/lib/python3.6/dist-packages/torch/nn/modules/container.py:550: UserWarning: Setting attributes on ParameterDict is not supported.\n",
            "  warnings.warn(\"Setting attributes on ParameterDict is not supported.\")\n"
          ],
          "name": "stderr"
        },
        {
          "output_type": "stream",
          "text": [
            "Epoch: 81, Training time: 4.18s, Loss: 19.0337\n",
            "Evaluate current model:\n",
            " Epoch: 81, Validation time: 1.14s \n",
            " Loss: 19.0337: \n",
            " Recall@10: 0.1720 \n",
            " NDCG@10: 0.5802\n"
          ],
          "name": "stdout"
        },
        {
          "output_type": "stream",
          "text": [
            "/usr/local/lib/python3.6/dist-packages/torch/nn/modules/container.py:550: UserWarning: Setting attributes on ParameterDict is not supported.\n",
            "  warnings.warn(\"Setting attributes on ParameterDict is not supported.\")\n"
          ],
          "name": "stderr"
        },
        {
          "output_type": "stream",
          "text": [
            "Epoch: 82, Training time: 4.15s, Loss: 19.0269\n",
            "Evaluate current model:\n",
            " Epoch: 82, Validation time: 1.13s \n",
            " Loss: 19.0269: \n",
            " Recall@10: 0.1671 \n",
            " NDCG@10: 0.5703\n"
          ],
          "name": "stdout"
        },
        {
          "output_type": "stream",
          "text": [
            "/usr/local/lib/python3.6/dist-packages/torch/nn/modules/container.py:550: UserWarning: Setting attributes on ParameterDict is not supported.\n",
            "  warnings.warn(\"Setting attributes on ParameterDict is not supported.\")\n"
          ],
          "name": "stderr"
        },
        {
          "output_type": "stream",
          "text": [
            "Epoch: 83, Training time: 4.49s, Loss: 19.0736\n",
            "Evaluate current model:\n",
            " Epoch: 83, Validation time: 1.13s \n",
            " Loss: 19.0736: \n",
            " Recall@10: 0.1700 \n",
            " NDCG@10: 0.5862\n"
          ],
          "name": "stdout"
        },
        {
          "output_type": "stream",
          "text": [
            "/usr/local/lib/python3.6/dist-packages/torch/nn/modules/container.py:550: UserWarning: Setting attributes on ParameterDict is not supported.\n",
            "  warnings.warn(\"Setting attributes on ParameterDict is not supported.\")\n"
          ],
          "name": "stderr"
        },
        {
          "output_type": "stream",
          "text": [
            "Epoch: 84, Training time: 4.24s, Loss: 18.8482\n",
            "Evaluate current model:\n",
            " Epoch: 84, Validation time: 1.13s \n",
            " Loss: 18.8482: \n",
            " Recall@10: 0.1698 \n",
            " NDCG@10: 0.5741\n"
          ],
          "name": "stdout"
        },
        {
          "output_type": "stream",
          "text": [
            "/usr/local/lib/python3.6/dist-packages/torch/nn/modules/container.py:550: UserWarning: Setting attributes on ParameterDict is not supported.\n",
            "  warnings.warn(\"Setting attributes on ParameterDict is not supported.\")\n"
          ],
          "name": "stderr"
        },
        {
          "output_type": "stream",
          "text": [
            "Epoch: 85, Training time: 4.49s, Loss: 18.7838\n",
            "Evaluate current model:\n",
            " Epoch: 85, Validation time: 1.11s \n",
            " Loss: 18.7838: \n",
            " Recall@10: 0.1718 \n",
            " NDCG@10: 0.5749\n"
          ],
          "name": "stdout"
        },
        {
          "output_type": "stream",
          "text": [
            "/usr/local/lib/python3.6/dist-packages/torch/nn/modules/container.py:550: UserWarning: Setting attributes on ParameterDict is not supported.\n",
            "  warnings.warn(\"Setting attributes on ParameterDict is not supported.\")\n"
          ],
          "name": "stderr"
        },
        {
          "output_type": "stream",
          "text": [
            "Epoch: 86, Training time: 4.36s, Loss: 18.5171\n",
            "Evaluate current model:\n",
            " Epoch: 86, Validation time: 1.13s \n",
            " Loss: 18.5171: \n",
            " Recall@10: 0.1728 \n",
            " NDCG@10: 0.5815\n"
          ],
          "name": "stdout"
        },
        {
          "output_type": "stream",
          "text": [
            "/usr/local/lib/python3.6/dist-packages/torch/nn/modules/container.py:550: UserWarning: Setting attributes on ParameterDict is not supported.\n",
            "  warnings.warn(\"Setting attributes on ParameterDict is not supported.\")\n"
          ],
          "name": "stderr"
        },
        {
          "output_type": "stream",
          "text": [
            "Epoch: 87, Training time: 4.20s, Loss: 18.4600\n",
            "Evaluate current model:\n",
            " Epoch: 87, Validation time: 1.11s \n",
            " Loss: 18.4600: \n",
            " Recall@10: 0.1759 \n",
            " NDCG@10: 0.5943\n"
          ],
          "name": "stdout"
        },
        {
          "output_type": "stream",
          "text": [
            "/usr/local/lib/python3.6/dist-packages/torch/nn/modules/container.py:550: UserWarning: Setting attributes on ParameterDict is not supported.\n",
            "  warnings.warn(\"Setting attributes on ParameterDict is not supported.\")\n"
          ],
          "name": "stderr"
        },
        {
          "output_type": "stream",
          "text": [
            "Epoch: 88, Training time: 4.23s, Loss: 18.7235\n",
            "Evaluate current model:\n",
            " Epoch: 88, Validation time: 1.11s \n",
            " Loss: 18.7235: \n",
            " Recall@10: 0.1735 \n",
            " NDCG@10: 0.5828\n"
          ],
          "name": "stdout"
        },
        {
          "output_type": "stream",
          "text": [
            "/usr/local/lib/python3.6/dist-packages/torch/nn/modules/container.py:550: UserWarning: Setting attributes on ParameterDict is not supported.\n",
            "  warnings.warn(\"Setting attributes on ParameterDict is not supported.\")\n"
          ],
          "name": "stderr"
        },
        {
          "output_type": "stream",
          "text": [
            "Epoch: 89, Training time: 4.37s, Loss: 18.4328\n",
            "Evaluate current model:\n",
            " Epoch: 89, Validation time: 1.11s \n",
            " Loss: 18.4328: \n",
            " Recall@10: 0.1752 \n",
            " NDCG@10: 0.5852\n"
          ],
          "name": "stdout"
        },
        {
          "output_type": "stream",
          "text": [
            "/usr/local/lib/python3.6/dist-packages/torch/nn/modules/container.py:550: UserWarning: Setting attributes on ParameterDict is not supported.\n",
            "  warnings.warn(\"Setting attributes on ParameterDict is not supported.\")\n"
          ],
          "name": "stderr"
        },
        {
          "output_type": "stream",
          "text": [
            "Epoch: 90, Training time: 4.27s, Loss: 18.1052\n",
            "Evaluate current model:\n",
            " Epoch: 90, Validation time: 1.14s \n",
            " Loss: 18.1052: \n",
            " Recall@10: 0.1770 \n",
            " NDCG@10: 0.5861\n"
          ],
          "name": "stdout"
        },
        {
          "output_type": "stream",
          "text": [
            "/usr/local/lib/python3.6/dist-packages/torch/nn/modules/container.py:550: UserWarning: Setting attributes on ParameterDict is not supported.\n",
            "  warnings.warn(\"Setting attributes on ParameterDict is not supported.\")\n"
          ],
          "name": "stderr"
        },
        {
          "output_type": "stream",
          "text": [
            "Epoch: 91, Training time: 4.33s, Loss: 18.1874\n",
            "Evaluate current model:\n",
            " Epoch: 91, Validation time: 1.15s \n",
            " Loss: 18.1874: \n",
            " Recall@10: 0.1757 \n",
            " NDCG@10: 0.5856\n"
          ],
          "name": "stdout"
        },
        {
          "output_type": "stream",
          "text": [
            "/usr/local/lib/python3.6/dist-packages/torch/nn/modules/container.py:550: UserWarning: Setting attributes on ParameterDict is not supported.\n",
            "  warnings.warn(\"Setting attributes on ParameterDict is not supported.\")\n"
          ],
          "name": "stderr"
        },
        {
          "output_type": "stream",
          "text": [
            "Epoch: 92, Training time: 4.36s, Loss: 18.0947\n",
            "Evaluate current model:\n",
            " Epoch: 92, Validation time: 1.13s \n",
            " Loss: 18.0947: \n",
            " Recall@10: 0.1801 \n",
            " NDCG@10: 0.5919\n"
          ],
          "name": "stdout"
        },
        {
          "output_type": "stream",
          "text": [
            "/usr/local/lib/python3.6/dist-packages/torch/nn/modules/container.py:550: UserWarning: Setting attributes on ParameterDict is not supported.\n",
            "  warnings.warn(\"Setting attributes on ParameterDict is not supported.\")\n"
          ],
          "name": "stderr"
        },
        {
          "output_type": "stream",
          "text": [
            "Epoch: 93, Training time: 4.14s, Loss: 18.1468\n",
            "Evaluate current model:\n",
            " Epoch: 93, Validation time: 1.12s \n",
            " Loss: 18.1468: \n",
            " Recall@10: 0.1797 \n",
            " NDCG@10: 0.5887\n"
          ],
          "name": "stdout"
        },
        {
          "output_type": "stream",
          "text": [
            "/usr/local/lib/python3.6/dist-packages/torch/nn/modules/container.py:550: UserWarning: Setting attributes on ParameterDict is not supported.\n",
            "  warnings.warn(\"Setting attributes on ParameterDict is not supported.\")\n"
          ],
          "name": "stderr"
        },
        {
          "output_type": "stream",
          "text": [
            "Epoch: 94, Training time: 4.32s, Loss: 18.0050\n",
            "Evaluate current model:\n",
            " Epoch: 94, Validation time: 1.13s \n",
            " Loss: 18.0050: \n",
            " Recall@10: 0.1821 \n",
            " NDCG@10: 0.5920\n"
          ],
          "name": "stdout"
        },
        {
          "output_type": "stream",
          "text": [
            "/usr/local/lib/python3.6/dist-packages/torch/nn/modules/container.py:550: UserWarning: Setting attributes on ParameterDict is not supported.\n",
            "  warnings.warn(\"Setting attributes on ParameterDict is not supported.\")\n"
          ],
          "name": "stderr"
        },
        {
          "output_type": "stream",
          "text": [
            "Epoch: 95, Training time: 4.24s, Loss: 17.8379\n",
            "Evaluate current model:\n",
            " Epoch: 95, Validation time: 1.12s \n",
            " Loss: 17.8379: \n",
            " Recall@10: 0.1755 \n",
            " NDCG@10: 0.5862\n"
          ],
          "name": "stdout"
        },
        {
          "output_type": "stream",
          "text": [
            "/usr/local/lib/python3.6/dist-packages/torch/nn/modules/container.py:550: UserWarning: Setting attributes on ParameterDict is not supported.\n",
            "  warnings.warn(\"Setting attributes on ParameterDict is not supported.\")\n"
          ],
          "name": "stderr"
        },
        {
          "output_type": "stream",
          "text": [
            "Epoch: 96, Training time: 4.23s, Loss: 17.7456\n",
            "Evaluate current model:\n",
            " Epoch: 96, Validation time: 1.15s \n",
            " Loss: 17.7456: \n",
            " Recall@10: 0.1789 \n",
            " NDCG@10: 0.5899\n"
          ],
          "name": "stdout"
        },
        {
          "output_type": "stream",
          "text": [
            "/usr/local/lib/python3.6/dist-packages/torch/nn/modules/container.py:550: UserWarning: Setting attributes on ParameterDict is not supported.\n",
            "  warnings.warn(\"Setting attributes on ParameterDict is not supported.\")\n"
          ],
          "name": "stderr"
        },
        {
          "output_type": "stream",
          "text": [
            "Epoch: 97, Training time: 4.32s, Loss: 17.8102\n",
            "Evaluate current model:\n",
            " Epoch: 97, Validation time: 1.12s \n",
            " Loss: 17.8102: \n",
            " Recall@10: 0.1784 \n",
            " NDCG@10: 0.5978\n"
          ],
          "name": "stdout"
        },
        {
          "output_type": "stream",
          "text": [
            "/usr/local/lib/python3.6/dist-packages/torch/nn/modules/container.py:550: UserWarning: Setting attributes on ParameterDict is not supported.\n",
            "  warnings.warn(\"Setting attributes on ParameterDict is not supported.\")\n"
          ],
          "name": "stderr"
        },
        {
          "output_type": "stream",
          "text": [
            "Epoch: 98, Training time: 4.06s, Loss: 17.4973\n",
            "Evaluate current model:\n",
            " Epoch: 98, Validation time: 1.13s \n",
            " Loss: 17.4973: \n",
            " Recall@10: 0.1787 \n",
            " NDCG@10: 0.5950\n"
          ],
          "name": "stdout"
        },
        {
          "output_type": "stream",
          "text": [
            "/usr/local/lib/python3.6/dist-packages/torch/nn/modules/container.py:550: UserWarning: Setting attributes on ParameterDict is not supported.\n",
            "  warnings.warn(\"Setting attributes on ParameterDict is not supported.\")\n"
          ],
          "name": "stderr"
        },
        {
          "output_type": "stream",
          "text": [
            "Epoch: 99, Training time: 4.14s, Loss: 17.6733\n",
            "Evaluate current model:\n",
            " Epoch: 99, Validation time: 1.12s \n",
            " Loss: 17.6733: \n",
            " Recall@10: 0.1788 \n",
            " NDCG@10: 0.5887\n",
            "Early stopping at step: 5 log:0.17875784635543823\n"
          ],
          "name": "stdout"
        },
        {
          "output_type": "display_data",
          "data": {
            "image/png": "[encoded data removed]",
            "text/plain": [
              "<Figure size 864x576 with 1 Axes>"
            ]
          },
          "metadata": {
            "tags": [],
            "needs_background": "light"
          }
        }
      ]
    },
    {
      "cell_type": "code",
      "metadata": {
        "id": "IgWFLo3kYB14"
      },
      "source": [
        ""
      ],
      "execution_count": null,
      "outputs": []
    }
  ]
}