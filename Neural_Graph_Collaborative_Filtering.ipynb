{
  "nbformat": 4,
  "nbformat_minor": 0,
  "metadata": {
    "colab": {
      "name": "Neural Graph Collaborative Filtering.ipynb",
      "provenance": [],
      "authorship_tag": "ABX9TyN0+X6bpSDGDen7bpVeOloQ",
      "include_colab_link": true
    },
    "kernelspec": {
      "name": "python3",
      "display_name": "Python 3"
    }
  },
  "cells": [
    {
      "cell_type": "markdown",
      "metadata": {
        "id": "view-in-github",
        "colab_type": "text"
      },
      "source": [
        "<a href=\"https://colab.research.google.com/github/mauricioyc/ngcf_pytorch_g61/blob/master/Neural_Graph_Collaborative_Filtering.ipynb\" target=\"_parent\"><img src=\"https://colab.research.google.com/assets/colab-badge.svg\" alt=\"Open In Colab\"/></a>"
      ]
    },
    {
      "cell_type": "markdown",
      "metadata": {
        "id": "Lf3PxZsZGouS"
      },
      "source": [
        "NGCF Implementation by https://github.com/metahexane/ngcf_pytorch_g61"
      ]
    },
    {
      "cell_type": "markdown",
      "metadata": {
        "id": "XjpRJfU5IUx7"
      },
      "source": [
        "NGCF"
      ]
    },
    {
      "cell_type": "code",
      "metadata": {
        "id": "SrdgEWXUIYG7"
      },
      "source": [
        ""
      ],
      "execution_count": null,
      "outputs": []
    }
  ]
}